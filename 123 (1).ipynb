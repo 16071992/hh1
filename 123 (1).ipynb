{
  "metadata": {
    "language_info": {
      "codemirror_mode": {
        "name": "python",
        "version": 3
      },
      "file_extension": ".py",
      "mimetype": "text/x-python",
      "name": "python",
      "nbconvert_exporter": "python",
      "pygments_lexer": "ipython3",
      "version": "3.8"
    },
    "kernelspec": {
      "name": "python",
      "display_name": "Python (Pyodide)",
      "language": "python"
    }
  },
  "nbformat_minor": 4,
  "nbformat": 4,
  "cells": [
    {
      "cell_type": "code",
      "source": "import pandas as pd\nimport numpy as np\nimport matplotlib.pyplot as plt",
      "metadata": {
        "trusted": true
      },
      "execution_count": 2,
      "outputs": []
    },
    {
      "cell_type": "code",
      "source": "W=pd.read_csv('Movies_dataset.csv')\nW.head()",
      "metadata": {
        "trusted": true
      },
      "execution_count": 3,
      "outputs": [
        {
          "execution_count": 3,
          "output_type": "execute_result",
          "data": {
            "text/plain": "   index                                title original_language release_date  \\\n0      0  Spider-Man: Across the Spider-Verse                en   31-05-2023   \n1      1     Transformers: Rise of the Beasts                en   06-06-2023   \n2      2                            The Flash                en   13-06-2023   \n3      3                     No Hard Feelings                en   15-06-2023   \n4      4                               Barbie                en   19-07-2023   \n\n   popularity  vote_average  vote_count  \\\n0    3368.627           8.5        3386   \n1    2160.316           7.5        2747   \n2    2108.713           7.0        2305   \n3    1978.358           7.1         562   \n4    1976.513           7.5        3013   \n\n                                            overview  \n0  After reuniting with Gwen Stacy, Brooklyn’s fu...  \n1  When a new threat capable of destroying the en...  \n2  When his attempt to save his family inadverten...  \n3  On the brink of losing her childhood home, Mad...  \n4  Barbie and Ken are having the time of their li...  ",
            "text/html": "<div>\n<style scoped>\n    .dataframe tbody tr th:only-of-type {\n        vertical-align: middle;\n    }\n\n    .dataframe tbody tr th {\n        vertical-align: top;\n    }\n\n    .dataframe thead th {\n        text-align: right;\n    }\n</style>\n<table border=\"1\" class=\"dataframe\">\n  <thead>\n    <tr style=\"text-align: right;\">\n      <th></th>\n      <th>index</th>\n      <th>title</th>\n      <th>original_language</th>\n      <th>release_date</th>\n      <th>popularity</th>\n      <th>vote_average</th>\n      <th>vote_count</th>\n      <th>overview</th>\n    </tr>\n  </thead>\n  <tbody>\n    <tr>\n      <th>0</th>\n      <td>0</td>\n      <td>Spider-Man: Across the Spider-Verse</td>\n      <td>en</td>\n      <td>31-05-2023</td>\n      <td>3368.627</td>\n      <td>8.5</td>\n      <td>3386</td>\n      <td>After reuniting with Gwen Stacy, Brooklyn’s fu...</td>\n    </tr>\n    <tr>\n      <th>1</th>\n      <td>1</td>\n      <td>Transformers: Rise of the Beasts</td>\n      <td>en</td>\n      <td>06-06-2023</td>\n      <td>2160.316</td>\n      <td>7.5</td>\n      <td>2747</td>\n      <td>When a new threat capable of destroying the en...</td>\n    </tr>\n    <tr>\n      <th>2</th>\n      <td>2</td>\n      <td>The Flash</td>\n      <td>en</td>\n      <td>13-06-2023</td>\n      <td>2108.713</td>\n      <td>7.0</td>\n      <td>2305</td>\n      <td>When his attempt to save his family inadverten...</td>\n    </tr>\n    <tr>\n      <th>3</th>\n      <td>3</td>\n      <td>No Hard Feelings</td>\n      <td>en</td>\n      <td>15-06-2023</td>\n      <td>1978.358</td>\n      <td>7.1</td>\n      <td>562</td>\n      <td>On the brink of losing her childhood home, Mad...</td>\n    </tr>\n    <tr>\n      <th>4</th>\n      <td>4</td>\n      <td>Barbie</td>\n      <td>en</td>\n      <td>19-07-2023</td>\n      <td>1976.513</td>\n      <td>7.5</td>\n      <td>3013</td>\n      <td>Barbie and Ken are having the time of their li...</td>\n    </tr>\n  </tbody>\n</table>\n</div>"
          },
          "metadata": {}
        }
      ]
    },
    {
      "cell_type": "code",
      "source": "W.info()",
      "metadata": {
        "trusted": true
      },
      "execution_count": 4,
      "outputs": [
        {
          "name": "stdout",
          "text": "<class 'pandas.core.frame.DataFrame'>\nRangeIndex: 10000 entries, 0 to 9999\nData columns (total 8 columns):\n #   Column             Non-Null Count  Dtype  \n---  ------             --------------  -----  \n 0   index              10000 non-null  int64  \n 1   title              10000 non-null  object \n 2   original_language  10000 non-null  object \n 3   release_date       9982 non-null   object \n 4   popularity         10000 non-null  float64\n 5   vote_average       10000 non-null  float64\n 6   vote_count         10000 non-null  int64  \n 7   overview           9905 non-null   object \ndtypes: float64(2), int64(2), object(4)\nmemory usage: 468.8+ KB\n",
          "output_type": "stream"
        }
      ]
    },
    {
      "cell_type": "code",
      "source": "A=W['release_date'].isnull()\nA.nunique() #counts type of unique information in this case two",
      "metadata": {
        "trusted": true
      },
      "execution_count": 5,
      "outputs": [
        {
          "execution_count": 5,
          "output_type": "execute_result",
          "data": {
            "text/plain": "2"
          },
          "metadata": {}
        }
      ]
    },
    {
      "cell_type": "code",
      "source": "Z=W.dropna()\nR=Z.isnull()\nR.value_counts()",
      "metadata": {
        "trusted": true
      },
      "execution_count": 6,
      "outputs": [
        {
          "execution_count": 6,
          "output_type": "execute_result",
          "data": {
            "text/plain": "index  title  original_language  release_date  popularity  vote_average  vote_count  overview\nFalse  False  False              False         False       False         False       False       9892\ndtype: int64"
          },
          "metadata": {}
        }
      ]
    },
    {
      "cell_type": "markdown",
      "source": "#### Now we have 9892 rows of data.",
      "metadata": {}
    },
    {
      "cell_type": "code",
      "source": "R.info()",
      "metadata": {
        "trusted": true
      },
      "execution_count": 7,
      "outputs": [
        {
          "name": "stdout",
          "text": "<class 'pandas.core.frame.DataFrame'>\nInt64Index: 9892 entries, 0 to 9999\nData columns (total 8 columns):\n #   Column             Non-Null Count  Dtype\n---  ------             --------------  -----\n 0   index              9892 non-null   bool \n 1   title              9892 non-null   bool \n 2   original_language  9892 non-null   bool \n 3   release_date       9892 non-null   bool \n 4   popularity         9892 non-null   bool \n 5   vote_average       9892 non-null   bool \n 6   vote_count         9892 non-null   bool \n 7   overview           9892 non-null   bool \ndtypes: bool(8)\nmemory usage: 154.6 KB\n",
          "output_type": "stream"
        }
      ]
    },
    {
      "cell_type": "code",
      "source": "Z['original_language'].nunique()",
      "metadata": {
        "trusted": true
      },
      "execution_count": 8,
      "outputs": [
        {
          "execution_count": 8,
          "output_type": "execute_result",
          "data": {
            "text/plain": "48"
          },
          "metadata": {}
        }
      ]
    },
    {
      "cell_type": "markdown",
      "source": "#### This data contains 48 different type of languages movies. ",
      "metadata": {}
    },
    {
      "cell_type": "code",
      "source": "Z['original_language'].unique()",
      "metadata": {
        "trusted": true
      },
      "execution_count": 9,
      "outputs": [
        {
          "execution_count": 9,
          "output_type": "execute_result",
          "data": {
            "text/plain": "array(['en', 'pl', 'ja', 'ar', 'fr', 'uk', 'es', 'fi', 'nl', 'ko', 'zh',\n       'cn', 'de', 'it', 'tl', 'ru', 'no', 'hi', 'tr', 'te', 'th', 'id',\n       'sv', 'da', 'ga', 'ta', 'cs', 'pt', 'sr', 'kn', 'gl', 'vi', 'el',\n       'bn', 'ml', 'ro', 'pa', 'fa', 'ka', 'dz', 'eu', 'km', 'hu', 'la',\n       'lv', 'nb', 'ur', 'kk'], dtype=object)"
          },
          "metadata": {}
        }
      ]
    },
    {
      "cell_type": "markdown",
      "source": "#### These are different type of languages ",
      "metadata": {}
    },
    {
      "cell_type": "code",
      "source": "M=Z['original_language'].value_counts()\nM.nlargest(15)",
      "metadata": {
        "trusted": true
      },
      "execution_count": 10,
      "outputs": [
        {
          "execution_count": 10,
          "output_type": "execute_result",
          "data": {
            "text/plain": "en    7154\nja     680\nko     425\nfr     335\nes     275\nit     170\nzh     154\ncn     145\nru      80\nde      77\ntl      52\nhi      50\nno      33\nth      31\nsv      26\nName: original_language, dtype: int64"
          },
          "metadata": {}
        }
      ]
    },
    {
      "cell_type": "markdown",
      "source": "#### Number of movies from some different languages",
      "metadata": {}
    },
    {
      "cell_type": "code",
      "source": "Z['vote_count'].idxmax()",
      "metadata": {
        "trusted": true
      },
      "execution_count": 11,
      "outputs": [
        {
          "execution_count": 11,
          "output_type": "execute_result",
          "data": {
            "text/plain": "195"
          },
          "metadata": {}
        }
      ]
    },
    {
      "cell_type": "code",
      "source": "B = Z[Z['vote_count'] ==Z['vote_count'].max()]\nB",
      "metadata": {
        "trusted": true
      },
      "execution_count": 12,
      "outputs": [
        {
          "execution_count": 12,
          "output_type": "execute_result",
          "data": {
            "text/plain": "     index      title original_language release_date  popularity  \\\n195    195  Inception                en   15-07-2010     122.994   \n202    202  Inception                en   15-07-2010     122.994   \n\n     vote_average  vote_count  \\\n195           8.4       34245   \n202           8.4       34245   \n\n                                              overview  \n195  Cobb, a skilled thief who commits corporate es...  \n202  Cobb, a skilled thief who commits corporate es...  ",
            "text/html": "<div>\n<style scoped>\n    .dataframe tbody tr th:only-of-type {\n        vertical-align: middle;\n    }\n\n    .dataframe tbody tr th {\n        vertical-align: top;\n    }\n\n    .dataframe thead th {\n        text-align: right;\n    }\n</style>\n<table border=\"1\" class=\"dataframe\">\n  <thead>\n    <tr style=\"text-align: right;\">\n      <th></th>\n      <th>index</th>\n      <th>title</th>\n      <th>original_language</th>\n      <th>release_date</th>\n      <th>popularity</th>\n      <th>vote_average</th>\n      <th>vote_count</th>\n      <th>overview</th>\n    </tr>\n  </thead>\n  <tbody>\n    <tr>\n      <th>195</th>\n      <td>195</td>\n      <td>Inception</td>\n      <td>en</td>\n      <td>15-07-2010</td>\n      <td>122.994</td>\n      <td>8.4</td>\n      <td>34245</td>\n      <td>Cobb, a skilled thief who commits corporate es...</td>\n    </tr>\n    <tr>\n      <th>202</th>\n      <td>202</td>\n      <td>Inception</td>\n      <td>en</td>\n      <td>15-07-2010</td>\n      <td>122.994</td>\n      <td>8.4</td>\n      <td>34245</td>\n      <td>Cobb, a skilled thief who commits corporate es...</td>\n    </tr>\n  </tbody>\n</table>\n</div>"
          },
          "metadata": {}
        }
      ]
    },
    {
      "cell_type": "markdown",
      "source": "#### As from this we can deduce that some movie  names are repeating itself",
      "metadata": {}
    },
    {
      "cell_type": "code",
      "source": "Z['title'].nunique()",
      "metadata": {
        "trusted": true
      },
      "execution_count": 13,
      "outputs": [
        {
          "execution_count": 13,
          "output_type": "execute_result",
          "data": {
            "text/plain": "9157"
          },
          "metadata": {}
        }
      ]
    },
    {
      "cell_type": "code",
      "source": "Z[Z['title']=='Inception']",
      "metadata": {
        "trusted": true
      },
      "execution_count": 14,
      "outputs": [
        {
          "execution_count": 14,
          "output_type": "execute_result",
          "data": {
            "text/plain": "     index      title original_language release_date  popularity  \\\n195    195  Inception                en   15-07-2010     122.994   \n202    202  Inception                en   15-07-2010     122.994   \n\n     vote_average  vote_count  \\\n195           8.4       34245   \n202           8.4       34245   \n\n                                              overview  \n195  Cobb, a skilled thief who commits corporate es...  \n202  Cobb, a skilled thief who commits corporate es...  ",
            "text/html": "<div>\n<style scoped>\n    .dataframe tbody tr th:only-of-type {\n        vertical-align: middle;\n    }\n\n    .dataframe tbody tr th {\n        vertical-align: top;\n    }\n\n    .dataframe thead th {\n        text-align: right;\n    }\n</style>\n<table border=\"1\" class=\"dataframe\">\n  <thead>\n    <tr style=\"text-align: right;\">\n      <th></th>\n      <th>index</th>\n      <th>title</th>\n      <th>original_language</th>\n      <th>release_date</th>\n      <th>popularity</th>\n      <th>vote_average</th>\n      <th>vote_count</th>\n      <th>overview</th>\n    </tr>\n  </thead>\n  <tbody>\n    <tr>\n      <th>195</th>\n      <td>195</td>\n      <td>Inception</td>\n      <td>en</td>\n      <td>15-07-2010</td>\n      <td>122.994</td>\n      <td>8.4</td>\n      <td>34245</td>\n      <td>Cobb, a skilled thief who commits corporate es...</td>\n    </tr>\n    <tr>\n      <th>202</th>\n      <td>202</td>\n      <td>Inception</td>\n      <td>en</td>\n      <td>15-07-2010</td>\n      <td>122.994</td>\n      <td>8.4</td>\n      <td>34245</td>\n      <td>Cobb, a skilled thief who commits corporate es...</td>\n    </tr>\n  </tbody>\n</table>\n</div>"
          },
          "metadata": {}
        }
      ]
    },
    {
      "cell_type": "code",
      "source": "Z[Z['title']=='The Little Mermaid']",
      "metadata": {
        "trusted": true
      },
      "execution_count": 15,
      "outputs": [
        {
          "execution_count": 15,
          "output_type": "execute_result",
          "data": {
            "text/plain": "      index               title original_language release_date  popularity  \\\n12       12  The Little Mermaid                en   18-05-2023    1268.064   \n247     247  The Little Mermaid                en   17-11-1989     107.954   \n2868   2868  The Little Mermaid                en   02-08-2018      26.830   \n\n      vote_average  vote_count  \\\n12             6.5        1598   \n247            7.4        7237   \n2868           5.0         809   \n\n                                               overview  \n12    The youngest of King Triton’s daughters, and t...  \n247   This colorful adventure tells the story of an ...  \n2868  A young reporter and his niece discover a beau...  ",
            "text/html": "<div>\n<style scoped>\n    .dataframe tbody tr th:only-of-type {\n        vertical-align: middle;\n    }\n\n    .dataframe tbody tr th {\n        vertical-align: top;\n    }\n\n    .dataframe thead th {\n        text-align: right;\n    }\n</style>\n<table border=\"1\" class=\"dataframe\">\n  <thead>\n    <tr style=\"text-align: right;\">\n      <th></th>\n      <th>index</th>\n      <th>title</th>\n      <th>original_language</th>\n      <th>release_date</th>\n      <th>popularity</th>\n      <th>vote_average</th>\n      <th>vote_count</th>\n      <th>overview</th>\n    </tr>\n  </thead>\n  <tbody>\n    <tr>\n      <th>12</th>\n      <td>12</td>\n      <td>The Little Mermaid</td>\n      <td>en</td>\n      <td>18-05-2023</td>\n      <td>1268.064</td>\n      <td>6.5</td>\n      <td>1598</td>\n      <td>The youngest of King Triton’s daughters, and t...</td>\n    </tr>\n    <tr>\n      <th>247</th>\n      <td>247</td>\n      <td>The Little Mermaid</td>\n      <td>en</td>\n      <td>17-11-1989</td>\n      <td>107.954</td>\n      <td>7.4</td>\n      <td>7237</td>\n      <td>This colorful adventure tells the story of an ...</td>\n    </tr>\n    <tr>\n      <th>2868</th>\n      <td>2868</td>\n      <td>The Little Mermaid</td>\n      <td>en</td>\n      <td>02-08-2018</td>\n      <td>26.830</td>\n      <td>5.0</td>\n      <td>809</td>\n      <td>A young reporter and his niece discover a beau...</td>\n    </tr>\n  </tbody>\n</table>\n</div>"
          },
          "metadata": {}
        }
      ]
    },
    {
      "cell_type": "markdown",
      "source": "#### From above 3 cell we can see that 9157 unique name are there but movies like 'The Little Mermaid' are \n#### made multiple times and movies like 'Inception' are mentioned twice.",
      "metadata": {}
    },
    {
      "cell_type": "code",
      "source": "Z= Z.drop_duplicates(subset=['overview'])\nZ[Z['title']=='The Little Mermaid']",
      "metadata": {
        "trusted": true
      },
      "execution_count": 16,
      "outputs": [
        {
          "execution_count": 16,
          "output_type": "execute_result",
          "data": {
            "text/plain": "      index               title original_language release_date  popularity  \\\n12       12  The Little Mermaid                en   18-05-2023    1268.064   \n247     247  The Little Mermaid                en   17-11-1989     107.954   \n2868   2868  The Little Mermaid                en   02-08-2018      26.830   \n\n      vote_average  vote_count  \\\n12             6.5        1598   \n247            7.4        7237   \n2868           5.0         809   \n\n                                               overview  \n12    The youngest of King Triton’s daughters, and t...  \n247   This colorful adventure tells the story of an ...  \n2868  A young reporter and his niece discover a beau...  ",
            "text/html": "<div>\n<style scoped>\n    .dataframe tbody tr th:only-of-type {\n        vertical-align: middle;\n    }\n\n    .dataframe tbody tr th {\n        vertical-align: top;\n    }\n\n    .dataframe thead th {\n        text-align: right;\n    }\n</style>\n<table border=\"1\" class=\"dataframe\">\n  <thead>\n    <tr style=\"text-align: right;\">\n      <th></th>\n      <th>index</th>\n      <th>title</th>\n      <th>original_language</th>\n      <th>release_date</th>\n      <th>popularity</th>\n      <th>vote_average</th>\n      <th>vote_count</th>\n      <th>overview</th>\n    </tr>\n  </thead>\n  <tbody>\n    <tr>\n      <th>12</th>\n      <td>12</td>\n      <td>The Little Mermaid</td>\n      <td>en</td>\n      <td>18-05-2023</td>\n      <td>1268.064</td>\n      <td>6.5</td>\n      <td>1598</td>\n      <td>The youngest of King Triton’s daughters, and t...</td>\n    </tr>\n    <tr>\n      <th>247</th>\n      <td>247</td>\n      <td>The Little Mermaid</td>\n      <td>en</td>\n      <td>17-11-1989</td>\n      <td>107.954</td>\n      <td>7.4</td>\n      <td>7237</td>\n      <td>This colorful adventure tells the story of an ...</td>\n    </tr>\n    <tr>\n      <th>2868</th>\n      <td>2868</td>\n      <td>The Little Mermaid</td>\n      <td>en</td>\n      <td>02-08-2018</td>\n      <td>26.830</td>\n      <td>5.0</td>\n      <td>809</td>\n      <td>A young reporter and his niece discover a beau...</td>\n    </tr>\n  </tbody>\n</table>\n</div>"
          },
          "metadata": {}
        }
      ]
    },
    {
      "cell_type": "code",
      "source": "Z[Z['title']=='Inception']",
      "metadata": {
        "trusted": true
      },
      "execution_count": 17,
      "outputs": [
        {
          "execution_count": 17,
          "output_type": "execute_result",
          "data": {
            "text/plain": "     index      title original_language release_date  popularity  \\\n195    195  Inception                en   15-07-2010     122.994   \n\n     vote_average  vote_count  \\\n195           8.4       34245   \n\n                                              overview  \n195  Cobb, a skilled thief who commits corporate es...  ",
            "text/html": "<div>\n<style scoped>\n    .dataframe tbody tr th:only-of-type {\n        vertical-align: middle;\n    }\n\n    .dataframe tbody tr th {\n        vertical-align: top;\n    }\n\n    .dataframe thead th {\n        text-align: right;\n    }\n</style>\n<table border=\"1\" class=\"dataframe\">\n  <thead>\n    <tr style=\"text-align: right;\">\n      <th></th>\n      <th>index</th>\n      <th>title</th>\n      <th>original_language</th>\n      <th>release_date</th>\n      <th>popularity</th>\n      <th>vote_average</th>\n      <th>vote_count</th>\n      <th>overview</th>\n    </tr>\n  </thead>\n  <tbody>\n    <tr>\n      <th>195</th>\n      <td>195</td>\n      <td>Inception</td>\n      <td>en</td>\n      <td>15-07-2010</td>\n      <td>122.994</td>\n      <td>8.4</td>\n      <td>34245</td>\n      <td>Cobb, a skilled thief who commits corporate es...</td>\n    </tr>\n  </tbody>\n</table>\n</div>"
          },
          "metadata": {}
        }
      ]
    },
    {
      "cell_type": "code",
      "source": "Z.info()",
      "metadata": {
        "trusted": true
      },
      "execution_count": 18,
      "outputs": [
        {
          "name": "stdout",
          "text": "<class 'pandas.core.frame.DataFrame'>\nInt64Index: 9457 entries, 0 to 9999\nData columns (total 8 columns):\n #   Column             Non-Null Count  Dtype  \n---  ------             --------------  -----  \n 0   index              9457 non-null   int64  \n 1   title              9457 non-null   object \n 2   original_language  9457 non-null   object \n 3   release_date       9457 non-null   object \n 4   popularity         9457 non-null   float64\n 5   vote_average       9457 non-null   float64\n 6   vote_count         9457 non-null   int64  \n 7   overview           9457 non-null   object \ndtypes: float64(2), int64(2), object(4)\nmemory usage: 517.2+ KB\n",
          "output_type": "stream"
        }
      ]
    },
    {
      "cell_type": "markdown",
      "source": "#### The above problem has bee resolved and now we have 9457 rows of data",
      "metadata": {}
    },
    {
      "cell_type": "code",
      "source": "Z.groupby('original_language')['vote_count'].max().nlargest(10)",
      "metadata": {
        "trusted": true
      },
      "execution_count": 19,
      "outputs": [
        {
          "execution_count": 19,
          "output_type": "execute_result",
          "data": {
            "text/plain": "original_language\nen    34245\nko    16197\nfr    15948\nja    14717\nit    12107\nes     9769\npl     8382\npt     6616\nhi     4219\ntr     4177\nName: vote_count, dtype: int64"
          },
          "metadata": {}
        }
      ]
    },
    {
      "cell_type": "markdown",
      "source": "#### This shows highest vote count for each language",
      "metadata": {}
    },
    {
      "cell_type": "code",
      "source": "Z.groupby('title')['title'].count().nlargest(8)",
      "metadata": {
        "trusted": true
      },
      "execution_count": 20,
      "outputs": [
        {
          "execution_count": 20,
          "output_type": "execute_result",
          "data": {
            "text/plain": "title\nBeauty and the Beast              4\nCinderella                        4\nPrey                              4\nThe Three Musketeers              4\nAlice in Wonderland               3\nAll Quiet on the Western Front    3\nCarrie                            3\nEscape Room                       3\nName: title, dtype: int64"
          },
          "metadata": {}
        }
      ]
    },
    {
      "cell_type": "markdown",
      "source": "#### This shows number of movies with same title",
      "metadata": {}
    },
    {
      "cell_type": "code",
      "source": "Z.groupby('release_date')['title'].count().nlargest(10)",
      "metadata": {
        "trusted": true
      },
      "execution_count": 21,
      "outputs": [
        {
          "execution_count": 21,
          "output_type": "execute_result",
          "data": {
            "text/plain": "release_date\n15-08-2023    49\n18-08-2023    22\n17-08-2023    19\n16-08-2023    16\n18-11-2022    14\n21-04-2023    14\n07-04-2023    13\n12-02-2021    13\n30-09-2022    13\n10-02-2023    11\nName: title, dtype: int64"
          },
          "metadata": {}
        }
      ]
    },
    {
      "cell_type": "markdown",
      "source": "#### Highest number of movies released on same date",
      "metadata": {}
    },
    {
      "cell_type": "code",
      "source": "def sp(Q):\n    Q1=Q.split('-')\n    return Q1[2]\n\nZ['year']=Z['release_date'].apply(sp)\nZ.head(2)",
      "metadata": {
        "trusted": true
      },
      "execution_count": 22,
      "outputs": [
        {
          "execution_count": 22,
          "output_type": "execute_result",
          "data": {
            "text/plain": "   index                                title original_language release_date  \\\n0      0  Spider-Man: Across the Spider-Verse                en   31-05-2023   \n1      1     Transformers: Rise of the Beasts                en   06-06-2023   \n\n   popularity  vote_average  vote_count  \\\n0    3368.627           8.5        3386   \n1    2160.316           7.5        2747   \n\n                                            overview  year  \n0  After reuniting with Gwen Stacy, Brooklyn’s fu...  2023  \n1  When a new threat capable of destroying the en...  2023  ",
            "text/html": "<div>\n<style scoped>\n    .dataframe tbody tr th:only-of-type {\n        vertical-align: middle;\n    }\n\n    .dataframe tbody tr th {\n        vertical-align: top;\n    }\n\n    .dataframe thead th {\n        text-align: right;\n    }\n</style>\n<table border=\"1\" class=\"dataframe\">\n  <thead>\n    <tr style=\"text-align: right;\">\n      <th></th>\n      <th>index</th>\n      <th>title</th>\n      <th>original_language</th>\n      <th>release_date</th>\n      <th>popularity</th>\n      <th>vote_average</th>\n      <th>vote_count</th>\n      <th>overview</th>\n      <th>year</th>\n    </tr>\n  </thead>\n  <tbody>\n    <tr>\n      <th>0</th>\n      <td>0</td>\n      <td>Spider-Man: Across the Spider-Verse</td>\n      <td>en</td>\n      <td>31-05-2023</td>\n      <td>3368.627</td>\n      <td>8.5</td>\n      <td>3386</td>\n      <td>After reuniting with Gwen Stacy, Brooklyn’s fu...</td>\n      <td>2023</td>\n    </tr>\n    <tr>\n      <th>1</th>\n      <td>1</td>\n      <td>Transformers: Rise of the Beasts</td>\n      <td>en</td>\n      <td>06-06-2023</td>\n      <td>2160.316</td>\n      <td>7.5</td>\n      <td>2747</td>\n      <td>When a new threat capable of destroying the en...</td>\n      <td>2023</td>\n    </tr>\n  </tbody>\n</table>\n</div>"
          },
          "metadata": {}
        }
      ]
    },
    {
      "cell_type": "code",
      "source": "Z.groupby('year')['title'].count().nlargest(8)",
      "metadata": {
        "trusted": true
      },
      "execution_count": 23,
      "outputs": [
        {
          "execution_count": 23,
          "output_type": "execute_result",
          "data": {
            "text/plain": "year\n2022    720\n2023    635\n2021    480\n2019    450\n2020    404\n2018    389\n2017    384\n2016    332\nName: title, dtype: int64"
          },
          "metadata": {}
        }
      ]
    },
    {
      "cell_type": "markdown",
      "source": "#### Highest number of movies released in particular year",
      "metadata": {}
    },
    {
      "cell_type": "code",
      "source": "Z1=Z.groupby('original_language').apply(lambda group:group[group['popularity'] == group['popularity'].max()])\nZ1.reset_index(drop=True, inplace=True)\nZ1[['title','popularity','original_language']]",
      "metadata": {
        "tags": [],
        "trusted": true
      },
      "execution_count": 24,
      "outputs": [
        {
          "execution_count": 24,
          "output_type": "execute_result",
          "data": {
            "text/plain": "                                            title  popularity  \\\n0                                    Head to Head     975.929   \n1                                      Cosmic Sex      22.441   \n2                                  Sex and Zen II     178.809   \n3                                        Il Boemo      37.812   \n4                                A Beautiful Life      39.400   \n5                                        Paradise     152.363   \n6                  Lunana: A Yak in the Classroom      16.878   \n7                      Emmanuelle: Queen of Sados      22.526   \n8             Spider-Man: Across the Spider-Verse    3368.627   \n9                     La Leyenda de los Chaneques     495.160   \n10      Errementari: The Blacksmith and the Devil      16.225   \n11                                    Holy Spider      18.863   \n12                                           Sisu     288.236   \n13      Miraculous: Ladybug & Cat Noir, The Movie     843.798   \n14                                  Róise & Frank      38.885   \n15                                         Matria      26.274   \n16                           Gadar: Ek Prem Katha      93.418   \n17                                   Fairy Garden      15.522   \n18                Today We'll Talk About That Day      56.859   \n19                               All Ladies Do It     137.724   \n20               Zom 100: Bucket List of the Dead    1369.019   \n21                             And Then We Danced      17.037   \n22                          The Legend of Tomiris      13.068   \n23                              The Warriors Gate      16.052   \n24                                    777 Charlie      27.037   \n25                                      Cold Eyes     210.065   \n26                                 The First King      13.773   \n27                                         Squeal      13.524   \n28                                  Minnal Murali      22.102   \n29                                   Troll Hunter      13.238   \n30                                           Oink     239.632   \n31                                          Troll      98.224   \n32                                  The Agreement      20.664   \n33                                    Soulcatcher    1585.721   \n34                                    City of God      34.590   \n35                                         R.M.N.      20.739   \n36                                           Mira     104.210   \n37                                 A Serbian Film      32.132   \n38                              Maya Nilo (Laura)      52.944   \n39                                         Jailer      38.115   \n40                                            RRR      68.487   \n41  The Trapped 13: How We Survived The Thai Cave      55.385   \n42                                       Kamadora     112.262   \n43                                 Love Tactics 2      53.761   \n44                         Mavka: The Forest Song     715.241   \n45                                        Joyland      13.113   \n46                                  The Ancestral      25.342   \n47                                       Deep Sea     192.768   \n\n   original_language  \n0                 ar  \n1                 bn  \n2                 cn  \n3                 cs  \n4                 da  \n5                 de  \n6                 dz  \n7                 el  \n8                 en  \n9                 es  \n10                eu  \n11                fa  \n12                fi  \n13                fr  \n14                ga  \n15                gl  \n16                hi  \n17                hu  \n18                id  \n19                it  \n20                ja  \n21                ka  \n22                kk  \n23                km  \n24                kn  \n25                ko  \n26                la  \n27                lv  \n28                ml  \n29                nb  \n30                nl  \n31                no  \n32                pa  \n33                pl  \n34                pt  \n35                ro  \n36                ru  \n37                sr  \n38                sv  \n39                ta  \n40                te  \n41                th  \n42                tl  \n43                tr  \n44                uk  \n45                ur  \n46                vi  \n47                zh  ",
            "text/html": "<div>\n<style scoped>\n    .dataframe tbody tr th:only-of-type {\n        vertical-align: middle;\n    }\n\n    .dataframe tbody tr th {\n        vertical-align: top;\n    }\n\n    .dataframe thead th {\n        text-align: right;\n    }\n</style>\n<table border=\"1\" class=\"dataframe\">\n  <thead>\n    <tr style=\"text-align: right;\">\n      <th></th>\n      <th>title</th>\n      <th>popularity</th>\n      <th>original_language</th>\n    </tr>\n  </thead>\n  <tbody>\n    <tr>\n      <th>0</th>\n      <td>Head to Head</td>\n      <td>975.929</td>\n      <td>ar</td>\n    </tr>\n    <tr>\n      <th>1</th>\n      <td>Cosmic Sex</td>\n      <td>22.441</td>\n      <td>bn</td>\n    </tr>\n    <tr>\n      <th>2</th>\n      <td>Sex and Zen II</td>\n      <td>178.809</td>\n      <td>cn</td>\n    </tr>\n    <tr>\n      <th>3</th>\n      <td>Il Boemo</td>\n      <td>37.812</td>\n      <td>cs</td>\n    </tr>\n    <tr>\n      <th>4</th>\n      <td>A Beautiful Life</td>\n      <td>39.400</td>\n      <td>da</td>\n    </tr>\n    <tr>\n      <th>5</th>\n      <td>Paradise</td>\n      <td>152.363</td>\n      <td>de</td>\n    </tr>\n    <tr>\n      <th>6</th>\n      <td>Lunana: A Yak in the Classroom</td>\n      <td>16.878</td>\n      <td>dz</td>\n    </tr>\n    <tr>\n      <th>7</th>\n      <td>Emmanuelle: Queen of Sados</td>\n      <td>22.526</td>\n      <td>el</td>\n    </tr>\n    <tr>\n      <th>8</th>\n      <td>Spider-Man: Across the Spider-Verse</td>\n      <td>3368.627</td>\n      <td>en</td>\n    </tr>\n    <tr>\n      <th>9</th>\n      <td>La Leyenda de los Chaneques</td>\n      <td>495.160</td>\n      <td>es</td>\n    </tr>\n    <tr>\n      <th>10</th>\n      <td>Errementari: The Blacksmith and the Devil</td>\n      <td>16.225</td>\n      <td>eu</td>\n    </tr>\n    <tr>\n      <th>11</th>\n      <td>Holy Spider</td>\n      <td>18.863</td>\n      <td>fa</td>\n    </tr>\n    <tr>\n      <th>12</th>\n      <td>Sisu</td>\n      <td>288.236</td>\n      <td>fi</td>\n    </tr>\n    <tr>\n      <th>13</th>\n      <td>Miraculous: Ladybug &amp; Cat Noir, The Movie</td>\n      <td>843.798</td>\n      <td>fr</td>\n    </tr>\n    <tr>\n      <th>14</th>\n      <td>Róise &amp; Frank</td>\n      <td>38.885</td>\n      <td>ga</td>\n    </tr>\n    <tr>\n      <th>15</th>\n      <td>Matria</td>\n      <td>26.274</td>\n      <td>gl</td>\n    </tr>\n    <tr>\n      <th>16</th>\n      <td>Gadar: Ek Prem Katha</td>\n      <td>93.418</td>\n      <td>hi</td>\n    </tr>\n    <tr>\n      <th>17</th>\n      <td>Fairy Garden</td>\n      <td>15.522</td>\n      <td>hu</td>\n    </tr>\n    <tr>\n      <th>18</th>\n      <td>Today We'll Talk About That Day</td>\n      <td>56.859</td>\n      <td>id</td>\n    </tr>\n    <tr>\n      <th>19</th>\n      <td>All Ladies Do It</td>\n      <td>137.724</td>\n      <td>it</td>\n    </tr>\n    <tr>\n      <th>20</th>\n      <td>Zom 100: Bucket List of the Dead</td>\n      <td>1369.019</td>\n      <td>ja</td>\n    </tr>\n    <tr>\n      <th>21</th>\n      <td>And Then We Danced</td>\n      <td>17.037</td>\n      <td>ka</td>\n    </tr>\n    <tr>\n      <th>22</th>\n      <td>The Legend of Tomiris</td>\n      <td>13.068</td>\n      <td>kk</td>\n    </tr>\n    <tr>\n      <th>23</th>\n      <td>The Warriors Gate</td>\n      <td>16.052</td>\n      <td>km</td>\n    </tr>\n    <tr>\n      <th>24</th>\n      <td>777 Charlie</td>\n      <td>27.037</td>\n      <td>kn</td>\n    </tr>\n    <tr>\n      <th>25</th>\n      <td>Cold Eyes</td>\n      <td>210.065</td>\n      <td>ko</td>\n    </tr>\n    <tr>\n      <th>26</th>\n      <td>The First King</td>\n      <td>13.773</td>\n      <td>la</td>\n    </tr>\n    <tr>\n      <th>27</th>\n      <td>Squeal</td>\n      <td>13.524</td>\n      <td>lv</td>\n    </tr>\n    <tr>\n      <th>28</th>\n      <td>Minnal Murali</td>\n      <td>22.102</td>\n      <td>ml</td>\n    </tr>\n    <tr>\n      <th>29</th>\n      <td>Troll Hunter</td>\n      <td>13.238</td>\n      <td>nb</td>\n    </tr>\n    <tr>\n      <th>30</th>\n      <td>Oink</td>\n      <td>239.632</td>\n      <td>nl</td>\n    </tr>\n    <tr>\n      <th>31</th>\n      <td>Troll</td>\n      <td>98.224</td>\n      <td>no</td>\n    </tr>\n    <tr>\n      <th>32</th>\n      <td>The Agreement</td>\n      <td>20.664</td>\n      <td>pa</td>\n    </tr>\n    <tr>\n      <th>33</th>\n      <td>Soulcatcher</td>\n      <td>1585.721</td>\n      <td>pl</td>\n    </tr>\n    <tr>\n      <th>34</th>\n      <td>City of God</td>\n      <td>34.590</td>\n      <td>pt</td>\n    </tr>\n    <tr>\n      <th>35</th>\n      <td>R.M.N.</td>\n      <td>20.739</td>\n      <td>ro</td>\n    </tr>\n    <tr>\n      <th>36</th>\n      <td>Mira</td>\n      <td>104.210</td>\n      <td>ru</td>\n    </tr>\n    <tr>\n      <th>37</th>\n      <td>A Serbian Film</td>\n      <td>32.132</td>\n      <td>sr</td>\n    </tr>\n    <tr>\n      <th>38</th>\n      <td>Maya Nilo (Laura)</td>\n      <td>52.944</td>\n      <td>sv</td>\n    </tr>\n    <tr>\n      <th>39</th>\n      <td>Jailer</td>\n      <td>38.115</td>\n      <td>ta</td>\n    </tr>\n    <tr>\n      <th>40</th>\n      <td>RRR</td>\n      <td>68.487</td>\n      <td>te</td>\n    </tr>\n    <tr>\n      <th>41</th>\n      <td>The Trapped 13: How We Survived The Thai Cave</td>\n      <td>55.385</td>\n      <td>th</td>\n    </tr>\n    <tr>\n      <th>42</th>\n      <td>Kamadora</td>\n      <td>112.262</td>\n      <td>tl</td>\n    </tr>\n    <tr>\n      <th>43</th>\n      <td>Love Tactics 2</td>\n      <td>53.761</td>\n      <td>tr</td>\n    </tr>\n    <tr>\n      <th>44</th>\n      <td>Mavka: The Forest Song</td>\n      <td>715.241</td>\n      <td>uk</td>\n    </tr>\n    <tr>\n      <th>45</th>\n      <td>Joyland</td>\n      <td>13.113</td>\n      <td>ur</td>\n    </tr>\n    <tr>\n      <th>46</th>\n      <td>The Ancestral</td>\n      <td>25.342</td>\n      <td>vi</td>\n    </tr>\n    <tr>\n      <th>47</th>\n      <td>Deep Sea</td>\n      <td>192.768</td>\n      <td>zh</td>\n    </tr>\n  </tbody>\n</table>\n</div>"
          },
          "metadata": {}
        }
      ]
    },
    {
      "cell_type": "markdown",
      "source": "#### These are most popular movie in every language",
      "metadata": {}
    },
    {
      "cell_type": "code",
      "source": "Z2=Z.groupby('original_language').apply(lambda group:group[group['popularity'] == group['popularity'].min()])\nZ2.reset_index(drop=True, inplace=True)\nZ2[['title','popularity','original_language']]",
      "metadata": {
        "trusted": true
      },
      "execution_count": 25,
      "outputs": [
        {
          "execution_count": 25,
          "output_type": "execute_result",
          "data": {
            "text/plain": "                                        title  popularity original_language\n0                                   Capernaum      17.993                ar\n1                                     Eklavya      14.760                bn\n2                          Temptation Summary      10.955                cn\n3                            The Painted Bird      13.511                cs\n4                         Ronal the Barbarian      12.852                da\n5                                   Free Fall      12.626                de\n6              Lunana: A Yak in the Classroom      16.878                dz\n7                                      Nefeli      13.044                el\n8                          The Lazarus Effect       8.865                en\n9                           The Pope: Answers      12.631                es\n10  Errementari: The Blacksmith and the Devil      16.225                eu\n11                         Children of Heaven      12.977                fa\n12             Rare Exports: A Christmas Tale      13.079                fi\n13                 The Visitors: Bastille Day       8.128                fr\n14                             The Quiet Girl      18.648                ga\n15                                 The Beasts      21.177                gl\n16                            OMG: Oh My God!      12.613                hi\n17                                       Well      13.041                hu\n18                               Maghrib Time      12.813                id\n19                              Kick the Cock      12.621                it\n20                             Female Leopard       8.724                ja\n21                         And Then We Danced      17.037                ka\n22                      The Legend of Tomiris      13.068                kk\n23                          The Warriors Gate      16.052                km\n24                           K.G.F: Chapter 2      19.066                kn\n25                                  Innocence      11.527                ko\n26                             The First King      13.773                la\n27                                     Squeal      13.524                lv\n28                                       Aadu      14.604                ml\n29                               Troll Hunter      13.238                nb\n30          My Extraordinary Summer with Tess      12.747                nl\n31                                  Dead Snow      12.696                no\n32                              The Agreement      20.664                pa\n33                                        Ida      12.699                pl\n34                                    A Gruta      13.377                pt\n35                                     R.M.N.      20.739                ro\n36                                    Brother      12.648                ru\n37                                Underground      13.854                sr\n38                           A Man Called Ove      12.748                sv\n39                                  Padayappa      12.740                ta\n40                           Waltair Veerayya      13.212                te\n41                                  Sweet Boy      12.960                th\n42                                      Porno      12.693                tl\n43                                   Sijjin 6      12.752                tr\n44                        The Stolen Princess      20.293                uk\n45                                    Joyland      13.113                ur\n46                              The Ancestral      25.342                vi\n47                             Kung Fu League      12.689                zh",
            "text/html": "<div>\n<style scoped>\n    .dataframe tbody tr th:only-of-type {\n        vertical-align: middle;\n    }\n\n    .dataframe tbody tr th {\n        vertical-align: top;\n    }\n\n    .dataframe thead th {\n        text-align: right;\n    }\n</style>\n<table border=\"1\" class=\"dataframe\">\n  <thead>\n    <tr style=\"text-align: right;\">\n      <th></th>\n      <th>title</th>\n      <th>popularity</th>\n      <th>original_language</th>\n    </tr>\n  </thead>\n  <tbody>\n    <tr>\n      <th>0</th>\n      <td>Capernaum</td>\n      <td>17.993</td>\n      <td>ar</td>\n    </tr>\n    <tr>\n      <th>1</th>\n      <td>Eklavya</td>\n      <td>14.760</td>\n      <td>bn</td>\n    </tr>\n    <tr>\n      <th>2</th>\n      <td>Temptation Summary</td>\n      <td>10.955</td>\n      <td>cn</td>\n    </tr>\n    <tr>\n      <th>3</th>\n      <td>The Painted Bird</td>\n      <td>13.511</td>\n      <td>cs</td>\n    </tr>\n    <tr>\n      <th>4</th>\n      <td>Ronal the Barbarian</td>\n      <td>12.852</td>\n      <td>da</td>\n    </tr>\n    <tr>\n      <th>5</th>\n      <td>Free Fall</td>\n      <td>12.626</td>\n      <td>de</td>\n    </tr>\n    <tr>\n      <th>6</th>\n      <td>Lunana: A Yak in the Classroom</td>\n      <td>16.878</td>\n      <td>dz</td>\n    </tr>\n    <tr>\n      <th>7</th>\n      <td>Nefeli</td>\n      <td>13.044</td>\n      <td>el</td>\n    </tr>\n    <tr>\n      <th>8</th>\n      <td>The Lazarus Effect</td>\n      <td>8.865</td>\n      <td>en</td>\n    </tr>\n    <tr>\n      <th>9</th>\n      <td>The Pope: Answers</td>\n      <td>12.631</td>\n      <td>es</td>\n    </tr>\n    <tr>\n      <th>10</th>\n      <td>Errementari: The Blacksmith and the Devil</td>\n      <td>16.225</td>\n      <td>eu</td>\n    </tr>\n    <tr>\n      <th>11</th>\n      <td>Children of Heaven</td>\n      <td>12.977</td>\n      <td>fa</td>\n    </tr>\n    <tr>\n      <th>12</th>\n      <td>Rare Exports: A Christmas Tale</td>\n      <td>13.079</td>\n      <td>fi</td>\n    </tr>\n    <tr>\n      <th>13</th>\n      <td>The Visitors: Bastille Day</td>\n      <td>8.128</td>\n      <td>fr</td>\n    </tr>\n    <tr>\n      <th>14</th>\n      <td>The Quiet Girl</td>\n      <td>18.648</td>\n      <td>ga</td>\n    </tr>\n    <tr>\n      <th>15</th>\n      <td>The Beasts</td>\n      <td>21.177</td>\n      <td>gl</td>\n    </tr>\n    <tr>\n      <th>16</th>\n      <td>OMG: Oh My God!</td>\n      <td>12.613</td>\n      <td>hi</td>\n    </tr>\n    <tr>\n      <th>17</th>\n      <td>Well</td>\n      <td>13.041</td>\n      <td>hu</td>\n    </tr>\n    <tr>\n      <th>18</th>\n      <td>Maghrib Time</td>\n      <td>12.813</td>\n      <td>id</td>\n    </tr>\n    <tr>\n      <th>19</th>\n      <td>Kick the Cock</td>\n      <td>12.621</td>\n      <td>it</td>\n    </tr>\n    <tr>\n      <th>20</th>\n      <td>Female Leopard</td>\n      <td>8.724</td>\n      <td>ja</td>\n    </tr>\n    <tr>\n      <th>21</th>\n      <td>And Then We Danced</td>\n      <td>17.037</td>\n      <td>ka</td>\n    </tr>\n    <tr>\n      <th>22</th>\n      <td>The Legend of Tomiris</td>\n      <td>13.068</td>\n      <td>kk</td>\n    </tr>\n    <tr>\n      <th>23</th>\n      <td>The Warriors Gate</td>\n      <td>16.052</td>\n      <td>km</td>\n    </tr>\n    <tr>\n      <th>24</th>\n      <td>K.G.F: Chapter 2</td>\n      <td>19.066</td>\n      <td>kn</td>\n    </tr>\n    <tr>\n      <th>25</th>\n      <td>Innocence</td>\n      <td>11.527</td>\n      <td>ko</td>\n    </tr>\n    <tr>\n      <th>26</th>\n      <td>The First King</td>\n      <td>13.773</td>\n      <td>la</td>\n    </tr>\n    <tr>\n      <th>27</th>\n      <td>Squeal</td>\n      <td>13.524</td>\n      <td>lv</td>\n    </tr>\n    <tr>\n      <th>28</th>\n      <td>Aadu</td>\n      <td>14.604</td>\n      <td>ml</td>\n    </tr>\n    <tr>\n      <th>29</th>\n      <td>Troll Hunter</td>\n      <td>13.238</td>\n      <td>nb</td>\n    </tr>\n    <tr>\n      <th>30</th>\n      <td>My Extraordinary Summer with Tess</td>\n      <td>12.747</td>\n      <td>nl</td>\n    </tr>\n    <tr>\n      <th>31</th>\n      <td>Dead Snow</td>\n      <td>12.696</td>\n      <td>no</td>\n    </tr>\n    <tr>\n      <th>32</th>\n      <td>The Agreement</td>\n      <td>20.664</td>\n      <td>pa</td>\n    </tr>\n    <tr>\n      <th>33</th>\n      <td>Ida</td>\n      <td>12.699</td>\n      <td>pl</td>\n    </tr>\n    <tr>\n      <th>34</th>\n      <td>A Gruta</td>\n      <td>13.377</td>\n      <td>pt</td>\n    </tr>\n    <tr>\n      <th>35</th>\n      <td>R.M.N.</td>\n      <td>20.739</td>\n      <td>ro</td>\n    </tr>\n    <tr>\n      <th>36</th>\n      <td>Brother</td>\n      <td>12.648</td>\n      <td>ru</td>\n    </tr>\n    <tr>\n      <th>37</th>\n      <td>Underground</td>\n      <td>13.854</td>\n      <td>sr</td>\n    </tr>\n    <tr>\n      <th>38</th>\n      <td>A Man Called Ove</td>\n      <td>12.748</td>\n      <td>sv</td>\n    </tr>\n    <tr>\n      <th>39</th>\n      <td>Padayappa</td>\n      <td>12.740</td>\n      <td>ta</td>\n    </tr>\n    <tr>\n      <th>40</th>\n      <td>Waltair Veerayya</td>\n      <td>13.212</td>\n      <td>te</td>\n    </tr>\n    <tr>\n      <th>41</th>\n      <td>Sweet Boy</td>\n      <td>12.960</td>\n      <td>th</td>\n    </tr>\n    <tr>\n      <th>42</th>\n      <td>Porno</td>\n      <td>12.693</td>\n      <td>tl</td>\n    </tr>\n    <tr>\n      <th>43</th>\n      <td>Sijjin 6</td>\n      <td>12.752</td>\n      <td>tr</td>\n    </tr>\n    <tr>\n      <th>44</th>\n      <td>The Stolen Princess</td>\n      <td>20.293</td>\n      <td>uk</td>\n    </tr>\n    <tr>\n      <th>45</th>\n      <td>Joyland</td>\n      <td>13.113</td>\n      <td>ur</td>\n    </tr>\n    <tr>\n      <th>46</th>\n      <td>The Ancestral</td>\n      <td>25.342</td>\n      <td>vi</td>\n    </tr>\n    <tr>\n      <th>47</th>\n      <td>Kung Fu League</td>\n      <td>12.689</td>\n      <td>zh</td>\n    </tr>\n  </tbody>\n</table>\n</div>"
          },
          "metadata": {}
        }
      ]
    },
    {
      "cell_type": "markdown",
      "source": "#### This are least popular movie in every language",
      "metadata": {}
    },
    {
      "cell_type": "markdown",
      "source": "## All original _language ('hi') movies",
      "metadata": {}
    },
    {
      "cell_type": "code",
      "source": "h = Z[Z['original_language'] =='hi']\nh",
      "metadata": {
        "tags": [],
        "trusted": true
      },
      "execution_count": 29,
      "outputs": [
        {
          "execution_count": 29,
          "output_type": "execute_result",
          "data": {
            "text/plain": "      index                            title original_language release_date  \\\n319     319             Gadar: Ek Prem Katha                hi   15-06-2001   \n1364   1364                        Adipurush                hi   16-06-2023   \n1657   1657                            OMG 2                hi   11-08-2023   \n1812   1812      Dilwale Dulhania Le Jayenge                hi   20-10-1995   \n2601   2601                           Dangal                hi   21-12-2016   \n2606   2606                         3 Idiots                hi   23-12-2009   \n2858   2858                          Pathaan                hi   25-01-2023   \n3259   3259                   Lust Stories 2                hi   29-06-2023   \n3628   3628                     Sooryavanshi                hi   05-11-2021   \n4014   4014                           Sholay                hi   15-08-1975   \n4065   4065       Brahmāstra Part One: Shiva                hi   08-09-2022   \n4356   4356                         Gol Maal                hi   19-04-1979   \n4515   4515               Satyaprem Ki Katha                hi   29-06-2023   \n4860   4860              Like Stars on Earth                hi   21-12-2007   \n4955   4955                     Looop Lapeta                hi   04-02-2022   \n5526   5526              Chor Nikal Ke Bhaga                hi   24-03-2023   \n5626   5626                  My Name Is Khan                hi   10-02-2010   \n6198   6198                     Om Shanti Om                hi   07-11-2007   \n7188   7188                     Lust Stories                hi   15-06-2018   \n7353   7353                       Veer-Zaara                hi   12-11-2004   \n7556   7556                          Bulbbul                hi   24-06-2020   \n7660   7660               Kuch Kuch Hota Hai                hi   16-10-1998   \n7905   7905                          Dhoom 3                hi   19-12-2013   \n7912   7912      Gangs of Wasseypur - Part 1                hi   22-06-2012   \n8086   8086                            Don 2                hi   23-12-2011   \n8094   8094                             Guru                hi   12-01-2007   \n8110   8110                          Junglee                hi   29-03-2019   \n8165   8165                        Andhadhun                hi   05-10-2018   \n8278   8278                        Padmaavat                hi   25-01-2018   \n8357   8357                          Ghoomer                hi   18-08-2023   \n8444   8444                          Dilwale                hi   18-12-2015   \n8553   8553                          Dhoom 2                hi   24-11-2006   \n8963   8963                           Swades                hi   17-12-2004   \n8971   8971  Rocky Aur Rani Kii Prem Kahaani                hi   28-07-2023   \n8974   8974                      Mohabbatein                hi   27-10-2000   \n9022   9022                             Ludo                hi   12-11-2020   \n9125   9125                   Chak De! India                hi   10-08-2007   \n9191   9191              Rab Ne Bana Di Jodi                hi   11-12-2008   \n9198   9198                           Kesari                hi   21-03-2019   \n9360   9360                           Akelli                hi   18-08-2023   \n9460   9460                   Did It Happen?                hi   02-02-2020   \n9503   9503                  Rang De Basanti                hi   26-01-2006   \n9647   9647                     Main Hoon Na                hi   30-04-2004   \n9772   9772                          Dhamaka                hi   19-11-2021   \n9829   9829                  Bajirao Mastani                hi   18-12-2015   \n9847   9847                          Parwana                hi   04-04-1971   \n9884   9884                   Action Replayy                hi   05-11-2010   \n9979   9979                           Devdas                hi   11-07-2002   \n9986   9986         Zindagi Na Milegi Dobara                hi   15-07-2011   \n9999   9999                  OMG: Oh My God!                hi   28-09-2012   \n\n      popularity  vote_average  vote_count  \\\n319       93.418           6.5          45   \n1364      41.603           4.8          14   \n1657      37.259           8.5           2   \n1812      35.255           8.6        4219   \n2601      28.454           8.0         852   \n2606      28.423           8.0        2131   \n2858      26.879           6.7          99   \n3259      24.709           5.4          19   \n3628      23.234           5.8         138   \n4014      21.993           7.0         234   \n4065      21.832           6.6         122   \n4356      20.838           7.3          65   \n4515      20.444           6.7           7   \n4860      19.585           8.0        1020   \n4955      19.395           6.1          56   \n5526      18.114           7.2          90   \n5626      17.896           8.1        1180   \n6198      16.867           7.1         306   \n7188      15.384           6.3         107   \n7353      15.163           7.4         227   \n7556      14.901           6.7         109   \n7660      14.795           7.6         339   \n7905      14.507           6.0         244   \n7912      14.498           7.2         315   \n8086      14.329           7.0         201   \n8094      14.326           6.8         104   \n8110      14.309           6.7          95   \n8165      14.238           7.7         424   \n8278      14.120           6.9         236   \n8357      14.043           0.0           0   \n8444      13.968           6.6         272   \n8553      13.871           6.6         211   \n8963      13.486           7.3         277   \n8971      13.478           7.0          10   \n8974      13.477           7.0         199   \n9022      13.437           7.3          87   \n9125      13.334           7.2         280   \n9191      13.257           7.1         242   \n9198      13.251           7.0          86   \n9360      13.110           0.0           0   \n9460      13.018           6.5           6   \n9503      12.982           7.2         389   \n9647      12.876           6.9         219   \n9772      12.778           7.0          78   \n9829      12.736           7.3         250   \n9847      12.724           4.2           3   \n9884      12.694           5.3          61   \n9979      12.630           7.5         295   \n9986      12.625           7.5         298   \n9999      12.613           7.3         193   \n\n                                               overview  year  \n319   Amongst the communal riots that erupt in the c...  2001  \n1364  7000 years ago, Ayodhya's Prince Raghava and P...  2023  \n1657  Life is bliss until one day Kanti Sharan Mudga...  2023  \n1812  Raj is a rich, carefree, happy-go-lucky second...  1995  \n2601  Dangal is an extraordinary true story based on...  2016  \n2606  Rascal. Joker. Dreamer. Genius... You've never...  2009  \n2858  A soldier caught by enemies and presumed dead ...  2023  \n3259  Four eminent Indian directors explore sex, des...  2023  \n3628  A fearless, faithful albeit slightly forgetful...  2021  \n4014  After his family is murdered by a notorious an...  1975  \n4065  The story of Shiva – a young man on the brink ...  2022  \n4356  A man's simple lie to secure his job escalates...  1979  \n4515  Sattu is a good-hearted but good-for-nothing L...  2023  \n4860  Ishaan Awasthi is an eight-year-old whose worl...  2007  \n4955  When her boyfriend loses a mobster's cash, Sav...  2022  \n5526  A flight attendant and her boyfriend must stea...  2023  \n5626  Rizwan Khan, a Muslim from the Borivali sectio...  2010  \n6198  Reincarnated 30 years after being killed in a ...  2007  \n7188  An anthology of four stories that sheds light ...  2018  \n7353  Squadron Leader Veer Pratap Singh, a pilot in ...  2004  \n7556  A child bride grows up to be an enigmatic woma...  2020  \n7660  Per her mother's last wish, an 8 year old girl...  1998  \n7905  To avenge his father's death, a circus enterta...  2013  \n7912  In 1970s India, a young man vows to take reven...  2012  \n8086  Having conquered the Asian underworld, crime b...  2011  \n8094  Gurukant Desai hails from Idhar, a small villa...  2007  \n8110  A vet returns home to his father's elephant re...  2019  \n8165  A series of mysterious events changes the life...  2018  \n8278  Rajputana, India, 13th century. The tyrannical...  2018  \n8357  Inspired by the incredible achievement of Hung...  2023  \n8444  Raj is a Mafia member. One day he meet a girl ...  2015  \n8553  Jai and Ali return, this time on the trail of ...  2006  \n8963  A successful Indian scientist returns home to ...  2004  \n8971  Gym-freak brat Rocky falls in love with Rani, ...  2023  \n8974  At a prestigious all-male university, three fr...  2000  \n9022  Ludo is about the butterfly effect and how, de...  2020  \n9125  A team of rag-tag girls with their own agenda ...  2007  \n9191  A lonely 40-ish man, likely to remain a bachel...  2008  \n9198  In 1897, an army of 21 Sikhs battles 10,000 Af...  2019  \n9360  An ordinary Indian girl gets trapped in a war-...  2023  \n9460  In A not-so- typical scenario, Ishan a young, ...  2020  \n9503  After a group of friends graduate from Delhi U...  2006  \n9647  An army major goes undercover as a college stu...  2004  \n9772  When a cynical ex-TV news anchor gets an alarm...  2021  \n9829  Peshwa Bajirao married to Kashibai, falls in l...  2015  \n9847  Kumar Sen is an artist of eminence, a talented...  1971  \n9884  A young man tries to revive his parents' wilti...  2010  \n9979  After his wealthy family prohibits him from ma...  2002  \n9986  Three friends who were inseparable in childhoo...  2011  \n9999  A shopkeeper takes God to court when his shop ...  2012  ",
            "text/html": "<div>\n<style scoped>\n    .dataframe tbody tr th:only-of-type {\n        vertical-align: middle;\n    }\n\n    .dataframe tbody tr th {\n        vertical-align: top;\n    }\n\n    .dataframe thead th {\n        text-align: right;\n    }\n</style>\n<table border=\"1\" class=\"dataframe\">\n  <thead>\n    <tr style=\"text-align: right;\">\n      <th></th>\n      <th>index</th>\n      <th>title</th>\n      <th>original_language</th>\n      <th>release_date</th>\n      <th>popularity</th>\n      <th>vote_average</th>\n      <th>vote_count</th>\n      <th>overview</th>\n      <th>year</th>\n    </tr>\n  </thead>\n  <tbody>\n    <tr>\n      <th>319</th>\n      <td>319</td>\n      <td>Gadar: Ek Prem Katha</td>\n      <td>hi</td>\n      <td>15-06-2001</td>\n      <td>93.418</td>\n      <td>6.5</td>\n      <td>45</td>\n      <td>Amongst the communal riots that erupt in the c...</td>\n      <td>2001</td>\n    </tr>\n    <tr>\n      <th>1364</th>\n      <td>1364</td>\n      <td>Adipurush</td>\n      <td>hi</td>\n      <td>16-06-2023</td>\n      <td>41.603</td>\n      <td>4.8</td>\n      <td>14</td>\n      <td>7000 years ago, Ayodhya's Prince Raghava and P...</td>\n      <td>2023</td>\n    </tr>\n    <tr>\n      <th>1657</th>\n      <td>1657</td>\n      <td>OMG 2</td>\n      <td>hi</td>\n      <td>11-08-2023</td>\n      <td>37.259</td>\n      <td>8.5</td>\n      <td>2</td>\n      <td>Life is bliss until one day Kanti Sharan Mudga...</td>\n      <td>2023</td>\n    </tr>\n    <tr>\n      <th>1812</th>\n      <td>1812</td>\n      <td>Dilwale Dulhania Le Jayenge</td>\n      <td>hi</td>\n      <td>20-10-1995</td>\n      <td>35.255</td>\n      <td>8.6</td>\n      <td>4219</td>\n      <td>Raj is a rich, carefree, happy-go-lucky second...</td>\n      <td>1995</td>\n    </tr>\n    <tr>\n      <th>2601</th>\n      <td>2601</td>\n      <td>Dangal</td>\n      <td>hi</td>\n      <td>21-12-2016</td>\n      <td>28.454</td>\n      <td>8.0</td>\n      <td>852</td>\n      <td>Dangal is an extraordinary true story based on...</td>\n      <td>2016</td>\n    </tr>\n    <tr>\n      <th>2606</th>\n      <td>2606</td>\n      <td>3 Idiots</td>\n      <td>hi</td>\n      <td>23-12-2009</td>\n      <td>28.423</td>\n      <td>8.0</td>\n      <td>2131</td>\n      <td>Rascal. Joker. Dreamer. Genius... You've never...</td>\n      <td>2009</td>\n    </tr>\n    <tr>\n      <th>2858</th>\n      <td>2858</td>\n      <td>Pathaan</td>\n      <td>hi</td>\n      <td>25-01-2023</td>\n      <td>26.879</td>\n      <td>6.7</td>\n      <td>99</td>\n      <td>A soldier caught by enemies and presumed dead ...</td>\n      <td>2023</td>\n    </tr>\n    <tr>\n      <th>3259</th>\n      <td>3259</td>\n      <td>Lust Stories 2</td>\n      <td>hi</td>\n      <td>29-06-2023</td>\n      <td>24.709</td>\n      <td>5.4</td>\n      <td>19</td>\n      <td>Four eminent Indian directors explore sex, des...</td>\n      <td>2023</td>\n    </tr>\n    <tr>\n      <th>3628</th>\n      <td>3628</td>\n      <td>Sooryavanshi</td>\n      <td>hi</td>\n      <td>05-11-2021</td>\n      <td>23.234</td>\n      <td>5.8</td>\n      <td>138</td>\n      <td>A fearless, faithful albeit slightly forgetful...</td>\n      <td>2021</td>\n    </tr>\n    <tr>\n      <th>4014</th>\n      <td>4014</td>\n      <td>Sholay</td>\n      <td>hi</td>\n      <td>15-08-1975</td>\n      <td>21.993</td>\n      <td>7.0</td>\n      <td>234</td>\n      <td>After his family is murdered by a notorious an...</td>\n      <td>1975</td>\n    </tr>\n    <tr>\n      <th>4065</th>\n      <td>4065</td>\n      <td>Brahmāstra Part One: Shiva</td>\n      <td>hi</td>\n      <td>08-09-2022</td>\n      <td>21.832</td>\n      <td>6.6</td>\n      <td>122</td>\n      <td>The story of Shiva – a young man on the brink ...</td>\n      <td>2022</td>\n    </tr>\n    <tr>\n      <th>4356</th>\n      <td>4356</td>\n      <td>Gol Maal</td>\n      <td>hi</td>\n      <td>19-04-1979</td>\n      <td>20.838</td>\n      <td>7.3</td>\n      <td>65</td>\n      <td>A man's simple lie to secure his job escalates...</td>\n      <td>1979</td>\n    </tr>\n    <tr>\n      <th>4515</th>\n      <td>4515</td>\n      <td>Satyaprem Ki Katha</td>\n      <td>hi</td>\n      <td>29-06-2023</td>\n      <td>20.444</td>\n      <td>6.7</td>\n      <td>7</td>\n      <td>Sattu is a good-hearted but good-for-nothing L...</td>\n      <td>2023</td>\n    </tr>\n    <tr>\n      <th>4860</th>\n      <td>4860</td>\n      <td>Like Stars on Earth</td>\n      <td>hi</td>\n      <td>21-12-2007</td>\n      <td>19.585</td>\n      <td>8.0</td>\n      <td>1020</td>\n      <td>Ishaan Awasthi is an eight-year-old whose worl...</td>\n      <td>2007</td>\n    </tr>\n    <tr>\n      <th>4955</th>\n      <td>4955</td>\n      <td>Looop Lapeta</td>\n      <td>hi</td>\n      <td>04-02-2022</td>\n      <td>19.395</td>\n      <td>6.1</td>\n      <td>56</td>\n      <td>When her boyfriend loses a mobster's cash, Sav...</td>\n      <td>2022</td>\n    </tr>\n    <tr>\n      <th>5526</th>\n      <td>5526</td>\n      <td>Chor Nikal Ke Bhaga</td>\n      <td>hi</td>\n      <td>24-03-2023</td>\n      <td>18.114</td>\n      <td>7.2</td>\n      <td>90</td>\n      <td>A flight attendant and her boyfriend must stea...</td>\n      <td>2023</td>\n    </tr>\n    <tr>\n      <th>5626</th>\n      <td>5626</td>\n      <td>My Name Is Khan</td>\n      <td>hi</td>\n      <td>10-02-2010</td>\n      <td>17.896</td>\n      <td>8.1</td>\n      <td>1180</td>\n      <td>Rizwan Khan, a Muslim from the Borivali sectio...</td>\n      <td>2010</td>\n    </tr>\n    <tr>\n      <th>6198</th>\n      <td>6198</td>\n      <td>Om Shanti Om</td>\n      <td>hi</td>\n      <td>07-11-2007</td>\n      <td>16.867</td>\n      <td>7.1</td>\n      <td>306</td>\n      <td>Reincarnated 30 years after being killed in a ...</td>\n      <td>2007</td>\n    </tr>\n    <tr>\n      <th>7188</th>\n      <td>7188</td>\n      <td>Lust Stories</td>\n      <td>hi</td>\n      <td>15-06-2018</td>\n      <td>15.384</td>\n      <td>6.3</td>\n      <td>107</td>\n      <td>An anthology of four stories that sheds light ...</td>\n      <td>2018</td>\n    </tr>\n    <tr>\n      <th>7353</th>\n      <td>7353</td>\n      <td>Veer-Zaara</td>\n      <td>hi</td>\n      <td>12-11-2004</td>\n      <td>15.163</td>\n      <td>7.4</td>\n      <td>227</td>\n      <td>Squadron Leader Veer Pratap Singh, a pilot in ...</td>\n      <td>2004</td>\n    </tr>\n    <tr>\n      <th>7556</th>\n      <td>7556</td>\n      <td>Bulbbul</td>\n      <td>hi</td>\n      <td>24-06-2020</td>\n      <td>14.901</td>\n      <td>6.7</td>\n      <td>109</td>\n      <td>A child bride grows up to be an enigmatic woma...</td>\n      <td>2020</td>\n    </tr>\n    <tr>\n      <th>7660</th>\n      <td>7660</td>\n      <td>Kuch Kuch Hota Hai</td>\n      <td>hi</td>\n      <td>16-10-1998</td>\n      <td>14.795</td>\n      <td>7.6</td>\n      <td>339</td>\n      <td>Per her mother's last wish, an 8 year old girl...</td>\n      <td>1998</td>\n    </tr>\n    <tr>\n      <th>7905</th>\n      <td>7905</td>\n      <td>Dhoom 3</td>\n      <td>hi</td>\n      <td>19-12-2013</td>\n      <td>14.507</td>\n      <td>6.0</td>\n      <td>244</td>\n      <td>To avenge his father's death, a circus enterta...</td>\n      <td>2013</td>\n    </tr>\n    <tr>\n      <th>7912</th>\n      <td>7912</td>\n      <td>Gangs of Wasseypur - Part 1</td>\n      <td>hi</td>\n      <td>22-06-2012</td>\n      <td>14.498</td>\n      <td>7.2</td>\n      <td>315</td>\n      <td>In 1970s India, a young man vows to take reven...</td>\n      <td>2012</td>\n    </tr>\n    <tr>\n      <th>8086</th>\n      <td>8086</td>\n      <td>Don 2</td>\n      <td>hi</td>\n      <td>23-12-2011</td>\n      <td>14.329</td>\n      <td>7.0</td>\n      <td>201</td>\n      <td>Having conquered the Asian underworld, crime b...</td>\n      <td>2011</td>\n    </tr>\n    <tr>\n      <th>8094</th>\n      <td>8094</td>\n      <td>Guru</td>\n      <td>hi</td>\n      <td>12-01-2007</td>\n      <td>14.326</td>\n      <td>6.8</td>\n      <td>104</td>\n      <td>Gurukant Desai hails from Idhar, a small villa...</td>\n      <td>2007</td>\n    </tr>\n    <tr>\n      <th>8110</th>\n      <td>8110</td>\n      <td>Junglee</td>\n      <td>hi</td>\n      <td>29-03-2019</td>\n      <td>14.309</td>\n      <td>6.7</td>\n      <td>95</td>\n      <td>A vet returns home to his father's elephant re...</td>\n      <td>2019</td>\n    </tr>\n    <tr>\n      <th>8165</th>\n      <td>8165</td>\n      <td>Andhadhun</td>\n      <td>hi</td>\n      <td>05-10-2018</td>\n      <td>14.238</td>\n      <td>7.7</td>\n      <td>424</td>\n      <td>A series of mysterious events changes the life...</td>\n      <td>2018</td>\n    </tr>\n    <tr>\n      <th>8278</th>\n      <td>8278</td>\n      <td>Padmaavat</td>\n      <td>hi</td>\n      <td>25-01-2018</td>\n      <td>14.120</td>\n      <td>6.9</td>\n      <td>236</td>\n      <td>Rajputana, India, 13th century. The tyrannical...</td>\n      <td>2018</td>\n    </tr>\n    <tr>\n      <th>8357</th>\n      <td>8357</td>\n      <td>Ghoomer</td>\n      <td>hi</td>\n      <td>18-08-2023</td>\n      <td>14.043</td>\n      <td>0.0</td>\n      <td>0</td>\n      <td>Inspired by the incredible achievement of Hung...</td>\n      <td>2023</td>\n    </tr>\n    <tr>\n      <th>8444</th>\n      <td>8444</td>\n      <td>Dilwale</td>\n      <td>hi</td>\n      <td>18-12-2015</td>\n      <td>13.968</td>\n      <td>6.6</td>\n      <td>272</td>\n      <td>Raj is a Mafia member. One day he meet a girl ...</td>\n      <td>2015</td>\n    </tr>\n    <tr>\n      <th>8553</th>\n      <td>8553</td>\n      <td>Dhoom 2</td>\n      <td>hi</td>\n      <td>24-11-2006</td>\n      <td>13.871</td>\n      <td>6.6</td>\n      <td>211</td>\n      <td>Jai and Ali return, this time on the trail of ...</td>\n      <td>2006</td>\n    </tr>\n    <tr>\n      <th>8963</th>\n      <td>8963</td>\n      <td>Swades</td>\n      <td>hi</td>\n      <td>17-12-2004</td>\n      <td>13.486</td>\n      <td>7.3</td>\n      <td>277</td>\n      <td>A successful Indian scientist returns home to ...</td>\n      <td>2004</td>\n    </tr>\n    <tr>\n      <th>8971</th>\n      <td>8971</td>\n      <td>Rocky Aur Rani Kii Prem Kahaani</td>\n      <td>hi</td>\n      <td>28-07-2023</td>\n      <td>13.478</td>\n      <td>7.0</td>\n      <td>10</td>\n      <td>Gym-freak brat Rocky falls in love with Rani, ...</td>\n      <td>2023</td>\n    </tr>\n    <tr>\n      <th>8974</th>\n      <td>8974</td>\n      <td>Mohabbatein</td>\n      <td>hi</td>\n      <td>27-10-2000</td>\n      <td>13.477</td>\n      <td>7.0</td>\n      <td>199</td>\n      <td>At a prestigious all-male university, three fr...</td>\n      <td>2000</td>\n    </tr>\n    <tr>\n      <th>9022</th>\n      <td>9022</td>\n      <td>Ludo</td>\n      <td>hi</td>\n      <td>12-11-2020</td>\n      <td>13.437</td>\n      <td>7.3</td>\n      <td>87</td>\n      <td>Ludo is about the butterfly effect and how, de...</td>\n      <td>2020</td>\n    </tr>\n    <tr>\n      <th>9125</th>\n      <td>9125</td>\n      <td>Chak De! India</td>\n      <td>hi</td>\n      <td>10-08-2007</td>\n      <td>13.334</td>\n      <td>7.2</td>\n      <td>280</td>\n      <td>A team of rag-tag girls with their own agenda ...</td>\n      <td>2007</td>\n    </tr>\n    <tr>\n      <th>9191</th>\n      <td>9191</td>\n      <td>Rab Ne Bana Di Jodi</td>\n      <td>hi</td>\n      <td>11-12-2008</td>\n      <td>13.257</td>\n      <td>7.1</td>\n      <td>242</td>\n      <td>A lonely 40-ish man, likely to remain a bachel...</td>\n      <td>2008</td>\n    </tr>\n    <tr>\n      <th>9198</th>\n      <td>9198</td>\n      <td>Kesari</td>\n      <td>hi</td>\n      <td>21-03-2019</td>\n      <td>13.251</td>\n      <td>7.0</td>\n      <td>86</td>\n      <td>In 1897, an army of 21 Sikhs battles 10,000 Af...</td>\n      <td>2019</td>\n    </tr>\n    <tr>\n      <th>9360</th>\n      <td>9360</td>\n      <td>Akelli</td>\n      <td>hi</td>\n      <td>18-08-2023</td>\n      <td>13.110</td>\n      <td>0.0</td>\n      <td>0</td>\n      <td>An ordinary Indian girl gets trapped in a war-...</td>\n      <td>2023</td>\n    </tr>\n    <tr>\n      <th>9460</th>\n      <td>9460</td>\n      <td>Did It Happen?</td>\n      <td>hi</td>\n      <td>02-02-2020</td>\n      <td>13.018</td>\n      <td>6.5</td>\n      <td>6</td>\n      <td>In A not-so- typical scenario, Ishan a young, ...</td>\n      <td>2020</td>\n    </tr>\n    <tr>\n      <th>9503</th>\n      <td>9503</td>\n      <td>Rang De Basanti</td>\n      <td>hi</td>\n      <td>26-01-2006</td>\n      <td>12.982</td>\n      <td>7.2</td>\n      <td>389</td>\n      <td>After a group of friends graduate from Delhi U...</td>\n      <td>2006</td>\n    </tr>\n    <tr>\n      <th>9647</th>\n      <td>9647</td>\n      <td>Main Hoon Na</td>\n      <td>hi</td>\n      <td>30-04-2004</td>\n      <td>12.876</td>\n      <td>6.9</td>\n      <td>219</td>\n      <td>An army major goes undercover as a college stu...</td>\n      <td>2004</td>\n    </tr>\n    <tr>\n      <th>9772</th>\n      <td>9772</td>\n      <td>Dhamaka</td>\n      <td>hi</td>\n      <td>19-11-2021</td>\n      <td>12.778</td>\n      <td>7.0</td>\n      <td>78</td>\n      <td>When a cynical ex-TV news anchor gets an alarm...</td>\n      <td>2021</td>\n    </tr>\n    <tr>\n      <th>9829</th>\n      <td>9829</td>\n      <td>Bajirao Mastani</td>\n      <td>hi</td>\n      <td>18-12-2015</td>\n      <td>12.736</td>\n      <td>7.3</td>\n      <td>250</td>\n      <td>Peshwa Bajirao married to Kashibai, falls in l...</td>\n      <td>2015</td>\n    </tr>\n    <tr>\n      <th>9847</th>\n      <td>9847</td>\n      <td>Parwana</td>\n      <td>hi</td>\n      <td>04-04-1971</td>\n      <td>12.724</td>\n      <td>4.2</td>\n      <td>3</td>\n      <td>Kumar Sen is an artist of eminence, a talented...</td>\n      <td>1971</td>\n    </tr>\n    <tr>\n      <th>9884</th>\n      <td>9884</td>\n      <td>Action Replayy</td>\n      <td>hi</td>\n      <td>05-11-2010</td>\n      <td>12.694</td>\n      <td>5.3</td>\n      <td>61</td>\n      <td>A young man tries to revive his parents' wilti...</td>\n      <td>2010</td>\n    </tr>\n    <tr>\n      <th>9979</th>\n      <td>9979</td>\n      <td>Devdas</td>\n      <td>hi</td>\n      <td>11-07-2002</td>\n      <td>12.630</td>\n      <td>7.5</td>\n      <td>295</td>\n      <td>After his wealthy family prohibits him from ma...</td>\n      <td>2002</td>\n    </tr>\n    <tr>\n      <th>9986</th>\n      <td>9986</td>\n      <td>Zindagi Na Milegi Dobara</td>\n      <td>hi</td>\n      <td>15-07-2011</td>\n      <td>12.625</td>\n      <td>7.5</td>\n      <td>298</td>\n      <td>Three friends who were inseparable in childhoo...</td>\n      <td>2011</td>\n    </tr>\n    <tr>\n      <th>9999</th>\n      <td>9999</td>\n      <td>OMG: Oh My God!</td>\n      <td>hi</td>\n      <td>28-09-2012</td>\n      <td>12.613</td>\n      <td>7.3</td>\n      <td>193</td>\n      <td>A shopkeeper takes God to court when his shop ...</td>\n      <td>2012</td>\n    </tr>\n  </tbody>\n</table>\n</div>"
          },
          "metadata": {}
        }
      ]
    },
    {
      "cell_type": "code",
      "source": "h.groupby('year')['year'].count()",
      "metadata": {
        "tags": [],
        "collapsed": true,
        "jupyter": {
          "outputs_hidden": true
        },
        "trusted": true
      },
      "execution_count": 33,
      "outputs": [
        {
          "execution_count": 33,
          "output_type": "execute_result",
          "data": {
            "text/plain": "year\n1971    1\n1975    1\n1979    1\n1995    1\n1998    1\n2000    1\n2001    1\n2002    1\n2004    3\n2006    2\n2007    4\n2008    1\n2009    1\n2010    2\n2011    2\n2012    2\n2013    1\n2015    2\n2016    1\n2018    3\n2019    2\n2020    3\n2021    2\n2022    2\n2023    9\nName: year, dtype: int64"
          },
          "metadata": {}
        }
      ]
    },
    {
      "cell_type": "code",
      "source": "plt.hist(h['year'], bins=25)\nplt.xticks(rotation=90) \nplt.xlabel('Value')\nplt.ylabel('Frequency')\nplt.title('Histogram of hi movies')",
      "metadata": {
        "trusted": true
      },
      "execution_count": 39,
      "outputs": [
        {
          "execution_count": 39,
          "output_type": "execute_result",
          "data": {
            "text/plain": "Text(0.5, 1.0, 'Histogram of hi movies')"
          },
          "metadata": {}
        },
        {
          "output_type": "display_data",
          "data": {
            "text/plain": "<Figure size 640x480 with 1 Axes>",
            "image/png": "[encoded data removed]"
          },
          "metadata": {}
        }
      ]
    },
    {
      "cell_type": "code",
      "source": "h[h['vote_count']==h['vote_count'].max()]",
      "metadata": {
        "trusted": true
      },
      "execution_count": 42,
      "outputs": [
        {
          "execution_count": 42,
          "output_type": "execute_result",
          "data": {
            "text/plain": "      index                        title original_language release_date  \\\n1812   1812  Dilwale Dulhania Le Jayenge                hi   20-10-1995   \n\n      popularity  vote_average  vote_count  \\\n1812      35.255           8.6        4219   \n\n                                               overview  year  \n1812  Raj is a rich, carefree, happy-go-lucky second...  1995  ",
            "text/html": "<div>\n<style scoped>\n    .dataframe tbody tr th:only-of-type {\n        vertical-align: middle;\n    }\n\n    .dataframe tbody tr th {\n        vertical-align: top;\n    }\n\n    .dataframe thead th {\n        text-align: right;\n    }\n</style>\n<table border=\"1\" class=\"dataframe\">\n  <thead>\n    <tr style=\"text-align: right;\">\n      <th></th>\n      <th>index</th>\n      <th>title</th>\n      <th>original_language</th>\n      <th>release_date</th>\n      <th>popularity</th>\n      <th>vote_average</th>\n      <th>vote_count</th>\n      <th>overview</th>\n      <th>year</th>\n    </tr>\n  </thead>\n  <tbody>\n    <tr>\n      <th>1812</th>\n      <td>1812</td>\n      <td>Dilwale Dulhania Le Jayenge</td>\n      <td>hi</td>\n      <td>20-10-1995</td>\n      <td>35.255</td>\n      <td>8.6</td>\n      <td>4219</td>\n      <td>Raj is a rich, carefree, happy-go-lucky second...</td>\n      <td>1995</td>\n    </tr>\n  </tbody>\n</table>\n</div>"
          },
          "metadata": {}
        }
      ]
    },
    {
      "cell_type": "markdown",
      "source": "#### Best vote_count for amovie",
      "metadata": {}
    },
    {
      "cell_type": "code",
      "source": "h[h['popularity']==h['popularity'].max()]",
      "metadata": {
        "trusted": true
      },
      "execution_count": 77,
      "outputs": [
        {
          "execution_count": 77,
          "output_type": "execute_result",
          "data": {
            "text/plain": "     index                 title original_language release_date  popularity  \\\n319    319  Gadar: Ek Prem Katha                hi   15-06-2001      93.418   \n\n     vote_average  vote_count  \\\n319           6.5          45   \n\n                                              overview  year  \n319  Amongst the communal riots that erupt in the c...  2001  ",
            "text/html": "<div>\n<style scoped>\n    .dataframe tbody tr th:only-of-type {\n        vertical-align: middle;\n    }\n\n    .dataframe tbody tr th {\n        vertical-align: top;\n    }\n\n    .dataframe thead th {\n        text-align: right;\n    }\n</style>\n<table border=\"1\" class=\"dataframe\">\n  <thead>\n    <tr style=\"text-align: right;\">\n      <th></th>\n      <th>index</th>\n      <th>title</th>\n      <th>original_language</th>\n      <th>release_date</th>\n      <th>popularity</th>\n      <th>vote_average</th>\n      <th>vote_count</th>\n      <th>overview</th>\n      <th>year</th>\n    </tr>\n  </thead>\n  <tbody>\n    <tr>\n      <th>319</th>\n      <td>319</td>\n      <td>Gadar: Ek Prem Katha</td>\n      <td>hi</td>\n      <td>15-06-2001</td>\n      <td>93.418</td>\n      <td>6.5</td>\n      <td>45</td>\n      <td>Amongst the communal riots that erupt in the c...</td>\n      <td>2001</td>\n    </tr>\n  </tbody>\n</table>\n</div>"
          },
          "metadata": {}
        }
      ]
    },
    {
      "cell_type": "markdown",
      "source": "#### Best popularity",
      "metadata": {}
    },
    {
      "cell_type": "code",
      "source": "h[h['vote_average']==h['vote_average'].max()]",
      "metadata": {
        "trusted": true
      },
      "execution_count": 78,
      "outputs": [
        {
          "execution_count": 78,
          "output_type": "execute_result",
          "data": {
            "text/plain": "      index                        title original_language release_date  \\\n1812   1812  Dilwale Dulhania Le Jayenge                hi   20-10-1995   \n\n      popularity  vote_average  vote_count  \\\n1812      35.255           8.6        4219   \n\n                                               overview  year  \n1812  Raj is a rich, carefree, happy-go-lucky second...  1995  ",
            "text/html": "<div>\n<style scoped>\n    .dataframe tbody tr th:only-of-type {\n        vertical-align: middle;\n    }\n\n    .dataframe tbody tr th {\n        vertical-align: top;\n    }\n\n    .dataframe thead th {\n        text-align: right;\n    }\n</style>\n<table border=\"1\" class=\"dataframe\">\n  <thead>\n    <tr style=\"text-align: right;\">\n      <th></th>\n      <th>index</th>\n      <th>title</th>\n      <th>original_language</th>\n      <th>release_date</th>\n      <th>popularity</th>\n      <th>vote_average</th>\n      <th>vote_count</th>\n      <th>overview</th>\n      <th>year</th>\n    </tr>\n  </thead>\n  <tbody>\n    <tr>\n      <th>1812</th>\n      <td>1812</td>\n      <td>Dilwale Dulhania Le Jayenge</td>\n      <td>hi</td>\n      <td>20-10-1995</td>\n      <td>35.255</td>\n      <td>8.6</td>\n      <td>4219</td>\n      <td>Raj is a rich, carefree, happy-go-lucky second...</td>\n      <td>1995</td>\n    </tr>\n  </tbody>\n</table>\n</div>"
          },
          "metadata": {}
        }
      ]
    },
    {
      "cell_type": "markdown",
      "source": "#### Best vote_average",
      "metadata": {}
    },
    {
      "cell_type": "code",
      "source": "h2=h[h['year']=='2023']\nh2",
      "metadata": {
        "trusted": true
      },
      "execution_count": 66,
      "outputs": [
        {
          "execution_count": 66,
          "output_type": "execute_result",
          "data": {
            "text/plain": "      index                            title original_language release_date  \\\n1364   1364                        Adipurush                hi   16-06-2023   \n1657   1657                            OMG 2                hi   11-08-2023   \n2858   2858                          Pathaan                hi   25-01-2023   \n3259   3259                   Lust Stories 2                hi   29-06-2023   \n4515   4515               Satyaprem Ki Katha                hi   29-06-2023   \n5526   5526              Chor Nikal Ke Bhaga                hi   24-03-2023   \n8357   8357                          Ghoomer                hi   18-08-2023   \n8971   8971  Rocky Aur Rani Kii Prem Kahaani                hi   28-07-2023   \n9360   9360                           Akelli                hi   18-08-2023   \n\n      popularity  vote_average  vote_count  \\\n1364      41.603           4.8          14   \n1657      37.259           8.5           2   \n2858      26.879           6.7          99   \n3259      24.709           5.4          19   \n4515      20.444           6.7           7   \n5526      18.114           7.2          90   \n8357      14.043           0.0           0   \n8971      13.478           7.0          10   \n9360      13.110           0.0           0   \n\n                                               overview  year  \n1364  7000 years ago, Ayodhya's Prince Raghava and P...  2023  \n1657  Life is bliss until one day Kanti Sharan Mudga...  2023  \n2858  A soldier caught by enemies and presumed dead ...  2023  \n3259  Four eminent Indian directors explore sex, des...  2023  \n4515  Sattu is a good-hearted but good-for-nothing L...  2023  \n5526  A flight attendant and her boyfriend must stea...  2023  \n8357  Inspired by the incredible achievement of Hung...  2023  \n8971  Gym-freak brat Rocky falls in love with Rani, ...  2023  \n9360  An ordinary Indian girl gets trapped in a war-...  2023  ",
            "text/html": "<div>\n<style scoped>\n    .dataframe tbody tr th:only-of-type {\n        vertical-align: middle;\n    }\n\n    .dataframe tbody tr th {\n        vertical-align: top;\n    }\n\n    .dataframe thead th {\n        text-align: right;\n    }\n</style>\n<table border=\"1\" class=\"dataframe\">\n  <thead>\n    <tr style=\"text-align: right;\">\n      <th></th>\n      <th>index</th>\n      <th>title</th>\n      <th>original_language</th>\n      <th>release_date</th>\n      <th>popularity</th>\n      <th>vote_average</th>\n      <th>vote_count</th>\n      <th>overview</th>\n      <th>year</th>\n    </tr>\n  </thead>\n  <tbody>\n    <tr>\n      <th>1364</th>\n      <td>1364</td>\n      <td>Adipurush</td>\n      <td>hi</td>\n      <td>16-06-2023</td>\n      <td>41.603</td>\n      <td>4.8</td>\n      <td>14</td>\n      <td>7000 years ago, Ayodhya's Prince Raghava and P...</td>\n      <td>2023</td>\n    </tr>\n    <tr>\n      <th>1657</th>\n      <td>1657</td>\n      <td>OMG 2</td>\n      <td>hi</td>\n      <td>11-08-2023</td>\n      <td>37.259</td>\n      <td>8.5</td>\n      <td>2</td>\n      <td>Life is bliss until one day Kanti Sharan Mudga...</td>\n      <td>2023</td>\n    </tr>\n    <tr>\n      <th>2858</th>\n      <td>2858</td>\n      <td>Pathaan</td>\n      <td>hi</td>\n      <td>25-01-2023</td>\n      <td>26.879</td>\n      <td>6.7</td>\n      <td>99</td>\n      <td>A soldier caught by enemies and presumed dead ...</td>\n      <td>2023</td>\n    </tr>\n    <tr>\n      <th>3259</th>\n      <td>3259</td>\n      <td>Lust Stories 2</td>\n      <td>hi</td>\n      <td>29-06-2023</td>\n      <td>24.709</td>\n      <td>5.4</td>\n      <td>19</td>\n      <td>Four eminent Indian directors explore sex, des...</td>\n      <td>2023</td>\n    </tr>\n    <tr>\n      <th>4515</th>\n      <td>4515</td>\n      <td>Satyaprem Ki Katha</td>\n      <td>hi</td>\n      <td>29-06-2023</td>\n      <td>20.444</td>\n      <td>6.7</td>\n      <td>7</td>\n      <td>Sattu is a good-hearted but good-for-nothing L...</td>\n      <td>2023</td>\n    </tr>\n    <tr>\n      <th>5526</th>\n      <td>5526</td>\n      <td>Chor Nikal Ke Bhaga</td>\n      <td>hi</td>\n      <td>24-03-2023</td>\n      <td>18.114</td>\n      <td>7.2</td>\n      <td>90</td>\n      <td>A flight attendant and her boyfriend must stea...</td>\n      <td>2023</td>\n    </tr>\n    <tr>\n      <th>8357</th>\n      <td>8357</td>\n      <td>Ghoomer</td>\n      <td>hi</td>\n      <td>18-08-2023</td>\n      <td>14.043</td>\n      <td>0.0</td>\n      <td>0</td>\n      <td>Inspired by the incredible achievement of Hung...</td>\n      <td>2023</td>\n    </tr>\n    <tr>\n      <th>8971</th>\n      <td>8971</td>\n      <td>Rocky Aur Rani Kii Prem Kahaani</td>\n      <td>hi</td>\n      <td>28-07-2023</td>\n      <td>13.478</td>\n      <td>7.0</td>\n      <td>10</td>\n      <td>Gym-freak brat Rocky falls in love with Rani, ...</td>\n      <td>2023</td>\n    </tr>\n    <tr>\n      <th>9360</th>\n      <td>9360</td>\n      <td>Akelli</td>\n      <td>hi</td>\n      <td>18-08-2023</td>\n      <td>13.110</td>\n      <td>0.0</td>\n      <td>0</td>\n      <td>An ordinary Indian girl gets trapped in a war-...</td>\n      <td>2023</td>\n    </tr>\n  </tbody>\n</table>\n</div>"
          },
          "metadata": {}
        }
      ]
    },
    {
      "cell_type": "code",
      "source": "h1=h[h['title']=='Rocky Aur Rani Kii Prem Kahaani']\nh1['overview']",
      "metadata": {
        "trusted": true
      },
      "execution_count": 52,
      "outputs": [
        {
          "execution_count": 52,
          "output_type": "execute_result",
          "data": {
            "text/plain": "8971    Gym-freak brat Rocky falls in love with Rani, ...\nName: overview, dtype: object"
          },
          "metadata": {}
        }
      ]
    },
    {
      "cell_type": "code",
      "source": "plt.bar(h2['title'],h2['vote_average'])\nplt.xlabel('title')\nplt.ylabel('vote_average')\nplt.title('Bar Chart ')\nplt.xticks(rotation=90)\nplt.show()",
      "metadata": {
        "trusted": true
      },
      "execution_count": 75,
      "outputs": [
        {
          "output_type": "display_data",
          "data": {
            "text/plain": "<Figure size 640x480 with 1 Axes>",
            "image/png": "[encoded data removed]"
          },
          "metadata": {}
        }
      ]
    },
    {
      "cell_type": "markdown",
      "source": "## All movies",
      "metadata": {}
    },
    {
      "cell_type": "markdown",
      "source": "#### Best vote_count for a movie",
      "metadata": {}
    },
    {
      "cell_type": "code",
      "source": "Z[Z['vote_count']==Z['vote_count'].max()]",
      "metadata": {
        "trusted": true
      },
      "execution_count": 79,
      "outputs": [
        {
          "execution_count": 79,
          "output_type": "execute_result",
          "data": {
            "text/plain": "     index      title original_language release_date  popularity  \\\n195    195  Inception                en   15-07-2010     122.994   \n\n     vote_average  vote_count  \\\n195           8.4       34245   \n\n                                              overview  year  \n195  Cobb, a skilled thief who commits corporate es...  2010  ",
            "text/html": "<div>\n<style scoped>\n    .dataframe tbody tr th:only-of-type {\n        vertical-align: middle;\n    }\n\n    .dataframe tbody tr th {\n        vertical-align: top;\n    }\n\n    .dataframe thead th {\n        text-align: right;\n    }\n</style>\n<table border=\"1\" class=\"dataframe\">\n  <thead>\n    <tr style=\"text-align: right;\">\n      <th></th>\n      <th>index</th>\n      <th>title</th>\n      <th>original_language</th>\n      <th>release_date</th>\n      <th>popularity</th>\n      <th>vote_average</th>\n      <th>vote_count</th>\n      <th>overview</th>\n      <th>year</th>\n    </tr>\n  </thead>\n  <tbody>\n    <tr>\n      <th>195</th>\n      <td>195</td>\n      <td>Inception</td>\n      <td>en</td>\n      <td>15-07-2010</td>\n      <td>122.994</td>\n      <td>8.4</td>\n      <td>34245</td>\n      <td>Cobb, a skilled thief who commits corporate es...</td>\n      <td>2010</td>\n    </tr>\n  </tbody>\n</table>\n</div>"
          },
          "metadata": {}
        }
      ]
    },
    {
      "cell_type": "markdown",
      "source": "#### Best popularity for a movie",
      "metadata": {}
    },
    {
      "cell_type": "code",
      "source": "Z[Z['popularity']==Z['popularity'].max()]",
      "metadata": {
        "trusted": true
      },
      "execution_count": 80,
      "outputs": [
        {
          "execution_count": 80,
          "output_type": "execute_result",
          "data": {
            "text/plain": "   index                                title original_language release_date  \\\n0      0  Spider-Man: Across the Spider-Verse                en   31-05-2023   \n\n   popularity  vote_average  vote_count  \\\n0    3368.627           8.5        3386   \n\n                                            overview  year  \n0  After reuniting with Gwen Stacy, Brooklyn’s fu...  2023  ",
            "text/html": "<div>\n<style scoped>\n    .dataframe tbody tr th:only-of-type {\n        vertical-align: middle;\n    }\n\n    .dataframe tbody tr th {\n        vertical-align: top;\n    }\n\n    .dataframe thead th {\n        text-align: right;\n    }\n</style>\n<table border=\"1\" class=\"dataframe\">\n  <thead>\n    <tr style=\"text-align: right;\">\n      <th></th>\n      <th>index</th>\n      <th>title</th>\n      <th>original_language</th>\n      <th>release_date</th>\n      <th>popularity</th>\n      <th>vote_average</th>\n      <th>vote_count</th>\n      <th>overview</th>\n      <th>year</th>\n    </tr>\n  </thead>\n  <tbody>\n    <tr>\n      <th>0</th>\n      <td>0</td>\n      <td>Spider-Man: Across the Spider-Verse</td>\n      <td>en</td>\n      <td>31-05-2023</td>\n      <td>3368.627</td>\n      <td>8.5</td>\n      <td>3386</td>\n      <td>After reuniting with Gwen Stacy, Brooklyn’s fu...</td>\n      <td>2023</td>\n    </tr>\n  </tbody>\n</table>\n</div>"
          },
          "metadata": {}
        }
      ]
    },
    {
      "cell_type": "markdown",
      "source": "#### Best vote_average for a movie",
      "metadata": {}
    },
    {
      "cell_type": "code",
      "source": "Z[Z['vote_average']==Z['vote_average'].max()]",
      "metadata": {
        "trusted": true
      },
      "execution_count": 81,
      "outputs": [
        {
          "execution_count": 81,
          "output_type": "execute_result",
          "data": {
            "text/plain": "      index                                              title  \\\n302     302                                             Manyak   \n366     366                              Pretty Young Sister 4   \n380     380                                 Female Boss Hooker   \n1200   1200                                          Horseplay   \n2100   2100  Abducted by My Teacher: The Elizabeth Thomas S...   \n2321   2321                                     Love in Taipei   \n3022   3022                      Nicole Kidman, eyes wide open   \n3630   3630                                  Dreams and Crumbs   \n3993   3993           You Are So Not Invited to My Bat Mitzvah   \n4156   4156                                    Female Hostel 3   \n4886   4886                                    The Monkey King   \n9248   9248                                        Loose Women   \n9463   9463                                       Blind Waters   \n9700   9700                           Dangerous Younger Cousin   \n\n     original_language release_date  popularity  vote_average  vote_count  \\\n302                 tl   04-08-2023      82.718          10.0           1   \n366                 ko   15-01-2021      85.301          10.0           1   \n380                 ko   31-08-2020      82.915          10.0           1   \n1200                es   01-06-2023      39.857          10.0           1   \n2100                en   12-08-2023      20.282          10.0           1   \n2321                en   10-08-2023      30.811          10.0           1   \n3022                fr   04-06-2023      25.879          10.0           1   \n3630                es   25-07-2023      23.228          10.0           1   \n3993                en   18-08-2023      22.027          10.0           1   \n4156                ko   11-06-2019      21.503          10.0           1   \n4886                en   11-08-2023      19.530          10.0           1   \n9248                ko   21-07-2016      13.208          10.0           1   \n9463                en   12-08-2023      13.016          10.0           1   \n9700                ko   23-11-2021      12.833          10.0           2   \n\n                                               overview  year  \n302   Desire and her boyfriend, Adam, stay at her si...  2023  \n366   Jeong-woo who is tired of instant food and liv...  2021  \n380   Ji-cheol is a job seeker who only plays and ea...  2020  \n1200  In the heat of the summer, Andy leaves the cit...  2023  \n2100  The story of Elizabeth Thomas, a 15-year-old h...  2023  \n2321  A young American woman is sent by her parents ...  2023  \n3022  Over the years, Nicole Kidman, Oscar and two-t...  2023  \n3630  Javi and Dani go around the city trying to sel...  2023  \n3993  Stacy and Lydia are BFFs who've always dreamed...  2023  \n4156  Lonely boarding house women! Any man who goes ...  2019  \n4886  A stick-wielding monkey teams with a young gir...  2023  \n9248  Four women who are having secret affairs tell ...  2016  \n9463  An unrelenting shark turns a couple’s dream va...  2023  \n9700  Hyang-gi hates her mother who only likes men a...  2021  ",
            "text/html": "<div>\n<style scoped>\n    .dataframe tbody tr th:only-of-type {\n        vertical-align: middle;\n    }\n\n    .dataframe tbody tr th {\n        vertical-align: top;\n    }\n\n    .dataframe thead th {\n        text-align: right;\n    }\n</style>\n<table border=\"1\" class=\"dataframe\">\n  <thead>\n    <tr style=\"text-align: right;\">\n      <th></th>\n      <th>index</th>\n      <th>title</th>\n      <th>original_language</th>\n      <th>release_date</th>\n      <th>popularity</th>\n      <th>vote_average</th>\n      <th>vote_count</th>\n      <th>overview</th>\n      <th>year</th>\n    </tr>\n  </thead>\n  <tbody>\n    <tr>\n      <th>302</th>\n      <td>302</td>\n      <td>Manyak</td>\n      <td>tl</td>\n      <td>04-08-2023</td>\n      <td>82.718</td>\n      <td>10.0</td>\n      <td>1</td>\n      <td>Desire and her boyfriend, Adam, stay at her si...</td>\n      <td>2023</td>\n    </tr>\n    <tr>\n      <th>366</th>\n      <td>366</td>\n      <td>Pretty Young Sister 4</td>\n      <td>ko</td>\n      <td>15-01-2021</td>\n      <td>85.301</td>\n      <td>10.0</td>\n      <td>1</td>\n      <td>Jeong-woo who is tired of instant food and liv...</td>\n      <td>2021</td>\n    </tr>\n    <tr>\n      <th>380</th>\n      <td>380</td>\n      <td>Female Boss Hooker</td>\n      <td>ko</td>\n      <td>31-08-2020</td>\n      <td>82.915</td>\n      <td>10.0</td>\n      <td>1</td>\n      <td>Ji-cheol is a job seeker who only plays and ea...</td>\n      <td>2020</td>\n    </tr>\n    <tr>\n      <th>1200</th>\n      <td>1200</td>\n      <td>Horseplay</td>\n      <td>es</td>\n      <td>01-06-2023</td>\n      <td>39.857</td>\n      <td>10.0</td>\n      <td>1</td>\n      <td>In the heat of the summer, Andy leaves the cit...</td>\n      <td>2023</td>\n    </tr>\n    <tr>\n      <th>2100</th>\n      <td>2100</td>\n      <td>Abducted by My Teacher: The Elizabeth Thomas S...</td>\n      <td>en</td>\n      <td>12-08-2023</td>\n      <td>20.282</td>\n      <td>10.0</td>\n      <td>1</td>\n      <td>The story of Elizabeth Thomas, a 15-year-old h...</td>\n      <td>2023</td>\n    </tr>\n    <tr>\n      <th>2321</th>\n      <td>2321</td>\n      <td>Love in Taipei</td>\n      <td>en</td>\n      <td>10-08-2023</td>\n      <td>30.811</td>\n      <td>10.0</td>\n      <td>1</td>\n      <td>A young American woman is sent by her parents ...</td>\n      <td>2023</td>\n    </tr>\n    <tr>\n      <th>3022</th>\n      <td>3022</td>\n      <td>Nicole Kidman, eyes wide open</td>\n      <td>fr</td>\n      <td>04-06-2023</td>\n      <td>25.879</td>\n      <td>10.0</td>\n      <td>1</td>\n      <td>Over the years, Nicole Kidman, Oscar and two-t...</td>\n      <td>2023</td>\n    </tr>\n    <tr>\n      <th>3630</th>\n      <td>3630</td>\n      <td>Dreams and Crumbs</td>\n      <td>es</td>\n      <td>25-07-2023</td>\n      <td>23.228</td>\n      <td>10.0</td>\n      <td>1</td>\n      <td>Javi and Dani go around the city trying to sel...</td>\n      <td>2023</td>\n    </tr>\n    <tr>\n      <th>3993</th>\n      <td>3993</td>\n      <td>You Are So Not Invited to My Bat Mitzvah</td>\n      <td>en</td>\n      <td>18-08-2023</td>\n      <td>22.027</td>\n      <td>10.0</td>\n      <td>1</td>\n      <td>Stacy and Lydia are BFFs who've always dreamed...</td>\n      <td>2023</td>\n    </tr>\n    <tr>\n      <th>4156</th>\n      <td>4156</td>\n      <td>Female Hostel 3</td>\n      <td>ko</td>\n      <td>11-06-2019</td>\n      <td>21.503</td>\n      <td>10.0</td>\n      <td>1</td>\n      <td>Lonely boarding house women! Any man who goes ...</td>\n      <td>2019</td>\n    </tr>\n    <tr>\n      <th>4886</th>\n      <td>4886</td>\n      <td>The Monkey King</td>\n      <td>en</td>\n      <td>11-08-2023</td>\n      <td>19.530</td>\n      <td>10.0</td>\n      <td>1</td>\n      <td>A stick-wielding monkey teams with a young gir...</td>\n      <td>2023</td>\n    </tr>\n    <tr>\n      <th>9248</th>\n      <td>9248</td>\n      <td>Loose Women</td>\n      <td>ko</td>\n      <td>21-07-2016</td>\n      <td>13.208</td>\n      <td>10.0</td>\n      <td>1</td>\n      <td>Four women who are having secret affairs tell ...</td>\n      <td>2016</td>\n    </tr>\n    <tr>\n      <th>9463</th>\n      <td>9463</td>\n      <td>Blind Waters</td>\n      <td>en</td>\n      <td>12-08-2023</td>\n      <td>13.016</td>\n      <td>10.0</td>\n      <td>1</td>\n      <td>An unrelenting shark turns a couple’s dream va...</td>\n      <td>2023</td>\n    </tr>\n    <tr>\n      <th>9700</th>\n      <td>9700</td>\n      <td>Dangerous Younger Cousin</td>\n      <td>ko</td>\n      <td>23-11-2021</td>\n      <td>12.833</td>\n      <td>10.0</td>\n      <td>2</td>\n      <td>Hyang-gi hates her mother who only likes men a...</td>\n      <td>2021</td>\n    </tr>\n  </tbody>\n</table>\n</div>"
          },
          "metadata": {}
        }
      ]
    },
    {
      "cell_type": "code",
      "source": "",
      "metadata": {},
      "execution_count": null,
      "outputs": []
    }
  ]
}